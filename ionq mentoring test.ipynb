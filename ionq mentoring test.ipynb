{
 "cells": [
  {
   "cell_type": "code",
   "execution_count": 4,
   "metadata": {},
   "outputs": [
    {
     "name": "stderr",
     "output_type": "stream",
     "text": [
      "ibmqfactory.load_account:WARNING:2023-03-28 17:40:21,022: Credentials are already in use. The existing account in the session will be replaced.\n"
     ]
    }
   ],
   "source": [
    "import numpy as np\n",
    "import math\n",
    "\n",
    "# Importing standard Qiskit libraries\n",
    "from qiskit import QuantumCircuit, transpile, Aer, IBMQ\n",
    "from qiskit.visualization import *\n",
    "from qiskit.providers.aer import QasmSimulator\n",
    "from qiskit.extensions import UnitaryGate\n",
    "from qiskit.quantum_info import Statevector\n",
    "from qiskit.quantum_info import random_clifford\n",
    "from qiskit.quantum_info import Clifford\n",
    "\n",
    "from qiskit import QuantumCircuit, ClassicalRegister, QuantumRegister\n",
    "from qiskit import BasicAer\n",
    "from qiskit.compiler import transpile\n",
    "from qiskit.quantum_info.operators import Operator, Pauli\n",
    "from qiskit.quantum_info import process_fidelity\n",
    "\n",
    "from qiskit.extensions import RXGate, XGate, CXGate\n",
    "\n",
    "from qiskit.extensions import Initialize\n",
    "\n",
    "# Loading your IBM Quantum account(s)\n",
    "provider = IBMQ.load_account()\n",
    "from qiskit import QuantumCircuit, execute\n",
    "from qiskit import BasicAer\n",
    "backend = BasicAer.get_backend('statevector_simulator')\n",
    "from qiskit.quantum_info.operators import Operator, Pauli"
   ]
  },
  {
   "cell_type": "code",
   "execution_count": 5,
   "metadata": {},
   "outputs": [],
   "source": [
    "from qiskit.algorithms.optimizers import SLSQP\n",
    "from qiskit.circuit.library import TwoLocal\n",
    "from qiskit.primitives import Estimator\n",
    "from qiskit.algorithms.minimum_eigensolvers import VQE\n",
    "from qiskit.quantum_info import SparsePauliOp\n",
    "from qiskit.primitives import Estimator\n",
    "from qiskit.circuit import Parameter\n",
    "from qiskit.opflow import I, Z, X, Y\n",
    "from qiskit.utils import algorithm_globals\n",
    "from qiskit.primitives import Estimator\n",
    "from qiskit.circuit.library import EfficientSU2\n",
    "from qiskit.visualization import plot_histogram\n",
    "import matplotlib.pyplot as plt\n",
    "from qiskit.circuit import QuantumCircuit, ParameterVector\n",
    "from qiskit.opflow import StateFn\n",
    "from qiskit import BasicAer"
   ]
  },
  {
   "cell_type": "code",
   "execution_count": 322,
   "metadata": {},
   "outputs": [
    {
     "data": {
      "text/plain": [
       "\"provider=IBMQ.get_provider(hub='ibm-q-skku', group='skku', project='skku-students')\\n#provider.backends()\\nbackend= provider.get_backend('ibmq_quito')\""
      ]
     },
     "execution_count": 322,
     "metadata": {},
     "output_type": "execute_result"
    }
   ],
   "source": [
    "\"\"\"provider=IBMQ.get_provider(hub='ibm-q-skku', group='skku', project='skku-students')\n",
    "#provider.backends()\n",
    "backend= provider.get_backend('ibmq_quito')\"\"\""
   ]
  },
  {
   "cell_type": "code",
   "execution_count": 6,
   "metadata": {},
   "outputs": [],
   "source": [
    "def My_function(x):\n",
    "    qc=QuantumCircuit(2)\n",
    "    qc.append(EfficientSU2(2,reps=1),[0,1])\n",
    "    index=0\n",
    "    for i in qc.parameters:\n",
    "        qc=qc.bind_parameters({i:x[index]})\n",
    "        index+=1\n",
    "    state_vec=get_statevector(qc).data\n",
    "    return -np.dot(state_vec,[1,0,0,1])"
   ]
  },
  {
   "cell_type": "code",
   "execution_count": 7,
   "metadata": {},
   "outputs": [],
   "source": [
    "def initiallize(state):\n",
    "    \"\"\"def f(x):\n",
    "        state=temp1[0]\n",
    "        qc=temp2[0]\n",
    "        index=0\n",
    "        for i in qc.parameters:\n",
    "            qc=qc.bind_parameters({i:x[index]})\n",
    "            index+=1\n",
    "        result=get_statevector(qc).data@np.array(temp1[0])\n",
    "        return -result\"\"\"\n",
    "    state=normalize(state)\n",
    "    Dim=int(math.ceil(math.log2(len(state))))\n",
    "    temp1=[abs(state)]\n",
    "    \"\"\"qc_iso=QuantumCircuit(Dim)\n",
    "    parameter_=[Parameter(str(i)) for i in range(Dim)]\n",
    "    index3=0\n",
    "    for i in range(Dim):\n",
    "        qc_iso.h(i)\n",
    "    for i in parameter_:\n",
    "        qc_iso.ry(i,index3)\n",
    "        index3+=1\n",
    "    temp2=[qc_iso]\n",
    "    x0=np.zeros(Dim)\n",
    "    res=minimize(f,x0,options={'maxiter':12})\n",
    "    index4=0\n",
    "    for i in qc_iso.parameters:\n",
    "        qc_iso=qc_iso.bind_parameters({i:res.x[index4]})\n",
    "        index4+=1\n",
    "    print(qc_iso)\n",
    "    init=qc_iso.to_gate(label='sudo init')\"\"\"\n",
    "\n",
    "\n",
    "    qc=QuantumCircuit(Dim)\n",
    "    ##qc.append(init,range(0,Dim))\n",
    "    ##qc.append(EfficientSU2(Dim,reps=1,su2_gates=['ry','rz']),range(0,Dim))\n",
    "    Para_list=[]\n",
    "    reps=2\n",
    "    for k in range(reps):\n",
    "        for i in range(Dim):\n",
    "            for j in range(3):\n",
    "                Para_list.append(Parameter(str(i)+str(j)+str(k)))\n",
    "    for k in range(reps):\n",
    "        for i in range(Dim):\n",
    "            Para_list.append(Parameter(str(i)+str(k)))\n",
    "    index=0\n",
    "    for j in range(reps):\n",
    "        for i in range(Dim):\n",
    "            qc.rx(Para_list[index],i)\n",
    "            index+=1\n",
    "        for i in range(Dim-1):\n",
    "            qc.cx(i,i+1)\n",
    "        for i in range(Dim):\n",
    "            qc.ry(Para_list[index],i)\n",
    "            index+=1\n",
    "        for i in range(Dim-1):\n",
    "            qc.cx(i,i+1) \n",
    "        for i in range(Dim):\n",
    "            qc.rz(Para_list[index],i)\n",
    "            index+=1\n",
    "        for i in range(Dim-1):\n",
    "            qc.cx(i,i+1)\n",
    "        for i in range(Dim):\n",
    "            qc.ry(Para_list[index],i)\n",
    "            index+=1\n",
    "   ## return qc\n",
    "    para_num=len(qc.parameters)\n",
    "    listA=[qc]\n",
    "    x_values=[]\n",
    "    y_values=[]\n",
    "    def call_back(x):\n",
    "        x_values.append(x)\n",
    "        y_values.append(My_function1(x))\n",
    "        print(\"반복횟수:\",len(x_values))\n",
    "        \n",
    "    def My_function1(x):\n",
    "        qc=listA[0]\n",
    "        \"\"\"A=random_clifford(qc.num_qubits)\n",
    "        A_mat=Operator(A).data\n",
    "        qc.append(A,range(0,qc.num_qubits))\"\"\"\n",
    "        index=0\n",
    "        for i in qc.parameters:\n",
    "            qc=qc.bind_parameters({i:x[index]})\n",
    "            index+=1\n",
    "        result=(normalize(state)).conjugate()@get_statevector(qc).data\n",
    "        return -result.real\n",
    "    res_x,res_y=optimize(My_function1,para_num,call_back)\n",
    "    index=0\n",
    "    for i in qc.parameters:\n",
    "        qc=qc.bind_parameters({i:res_x[index]})\n",
    "        index+=1\n",
    "    return qc,x_values,y_values\n",
    "def obj_func(x):\n",
    "    return x[0]**2 + x[1]**2\n",
    "\n",
    "# 콜백 함수 정의\n",
    "x_values = []\n",
    "def callback_func(x):\n",
    "    x_values.append(x)\n",
    "def optimize(f,parameter_num,callfunc):\n",
    "    x_values=[]\n",
    "    ##x0=np.zeros(parameter_num)\n",
    "    x0=np.array([0]*parameter_num)\n",
    "    x0=x0+(list(np.random.randn(int(parameter_num/4))*np.pi)+[0]*int(parameter_num*3/4))\n",
    "    \"\"\" while(f(x0).real>-0.5):\n",
    "        x0=np.array([0]*parameter_num)+(list(np.random.randn(int(parameter_num/4))*np.pi)+[0]*int(parameter_num*3/4))\n",
    "        print(f(x0))\"\"\"\n",
    "    res = minimize(f, x0, callback=callfunc,tol=1e-4,options={\"maxiter\":8})\n",
    "    return res.x,res.fun"
   ]
  },
  {
   "cell_type": "code",
   "execution_count": 325,
   "metadata": {},
   "outputs": [
    {
     "data": {
      "text/plain": [
       "\"def parameter_circuit(state,*rep):\\n    if len(rep)==0:\\n        reps=1\\n    else:\\n        reps=rep[0]\\n  def f(x):\\n        state=temp1[0]\\n        qc=temp2[0]\\n        index=0\\n        for i in qc.parameters:\\n            qc=qc.bind_parameters({i:x[index]})\\n            index+=1\\n        result=get_statevector(qc).data@np.array(temp1[0])\\n        return -result\\n    state=normalize(state)\\n    Dim=int(math.ceil(math.log2(len(state))))\\n    temp1=[abs(state)]\\n    qc_iso=QuantumCircuit(Dim)\\n    parameter_=[Parameter(str(i)) for i in range(Dim)]\\n    index3=0\\n    for i in range(Dim):\\n        qc_iso.h(i)\\n    for i in parameter_:\\n        qc_iso.ry(i,index3)\\n        index3+=1\\n    temp2=[qc_iso]\\n    x0=np.zeros(Dim)\\n    res=minimize(f,x0,options={'maxiter':12})\\n    index4=0\\n    for i in qc_iso.parameters:\\n        qc_iso=qc_iso.bind_parameters({i:res.x[index4]})\\n        index4+=1\\n    print(qc_iso)\\n    init=qc_iso.to_gate(label='sudo init')\\n\\n\\n    qc=QuantumCircuit(Dim)\\n    ##qc.append(init,range(0,Dim))\\n    ##qc.append(EfficientSU2(Dim,reps=1,su2_gates=['ry','rz']),range(0,Dim))\\n    Para_list=[]\\n    for k in range(reps):\\n        for i in range(Dim):\\n            for j in range(8):\\n                Para_list.append(Parameter(str(i)+str(j)+str(k)))\\n    for k in range(reps):\\n        for i in range(Dim):\\n            Para_list.append(Parameter(str(i)+str(k)))\\n    index=0\\n    for j in range(reps):\\n        for i in range(Dim):\\n            qc.rz(Para_list[index],i)\\n            index+=1\\n        ###추가\\n        for i in range(Dim):\\n            qc.h(i)\\n            index+=1\\n        ###\\n        ###추가\\n        for i in range(Dim):\\n            qc.rz(Para_list[index],i)\\n            index+=1\\n        for i in range(Dim):\\n            qc.h(i)\\n            index+=1\\n        ###\\n        for i in range(Dim-1):\\n            qc.cx(i,i+1)\\n        ###추가\\n        for i in range(Dim):\\n            qc.h(i)\\n            index+=1\\n        for i in range(Dim):\\n            qc.rz(Para_list[index],i)\\n            index+=1\\n        ###\\n        for i in range(Dim):\\n            qc.ry(Para_list[index],i)\\n            index+=1\\n        for i in range(Dim-1):\\n            qc.cx(i,i+1) \\n        for i in range(Dim):\\n            qc.rz(Para_list[index],i)\\n            index+=1\\n        for i in range(Dim-1):\\n            qc.cx(i,i+1)\\n        for i in range(Dim):\\n            qc.ry(Para_list[index],i)\\n            index+=1\\n        return qc\""
      ]
     },
     "execution_count": 325,
     "metadata": {},
     "output_type": "execute_result"
    }
   ],
   "source": [
    "\"\"\"def parameter_circuit(state,*rep):\n",
    "    if len(rep)==0:\n",
    "        reps=1\n",
    "    else:\n",
    "        reps=rep[0]\n",
    "  def f(x):\n",
    "        state=temp1[0]\n",
    "        qc=temp2[0]\n",
    "        index=0\n",
    "        for i in qc.parameters:\n",
    "            qc=qc.bind_parameters({i:x[index]})\n",
    "            index+=1\n",
    "        result=get_statevector(qc).data@np.array(temp1[0])\n",
    "        return -result\n",
    "    state=normalize(state)\n",
    "    Dim=int(math.ceil(math.log2(len(state))))\n",
    "    temp1=[abs(state)]\n",
    "    qc_iso=QuantumCircuit(Dim)\n",
    "    parameter_=[Parameter(str(i)) for i in range(Dim)]\n",
    "    index3=0\n",
    "    for i in range(Dim):\n",
    "        qc_iso.h(i)\n",
    "    for i in parameter_:\n",
    "        qc_iso.ry(i,index3)\n",
    "        index3+=1\n",
    "    temp2=[qc_iso]\n",
    "    x0=np.zeros(Dim)\n",
    "    res=minimize(f,x0,options={'maxiter':12})\n",
    "    index4=0\n",
    "    for i in qc_iso.parameters:\n",
    "        qc_iso=qc_iso.bind_parameters({i:res.x[index4]})\n",
    "        index4+=1\n",
    "    print(qc_iso)\n",
    "    init=qc_iso.to_gate(label='sudo init')\n",
    "\n",
    "\n",
    "    qc=QuantumCircuit(Dim)\n",
    "    ##qc.append(init,range(0,Dim))\n",
    "    ##qc.append(EfficientSU2(Dim,reps=1,su2_gates=['ry','rz']),range(0,Dim))\n",
    "    Para_list=[]\n",
    "    for k in range(reps):\n",
    "        for i in range(Dim):\n",
    "            for j in range(8):\n",
    "                Para_list.append(Parameter(str(i)+str(j)+str(k)))\n",
    "    for k in range(reps):\n",
    "        for i in range(Dim):\n",
    "            Para_list.append(Parameter(str(i)+str(k)))\n",
    "    index=0\n",
    "    for j in range(reps):\n",
    "        for i in range(Dim):\n",
    "            qc.rz(Para_list[index],i)\n",
    "            index+=1\n",
    "        ###추가\n",
    "        for i in range(Dim):\n",
    "            qc.h(i)\n",
    "            index+=1\n",
    "        ###\n",
    "        ###추가\n",
    "        for i in range(Dim):\n",
    "            qc.rz(Para_list[index],i)\n",
    "            index+=1\n",
    "        for i in range(Dim):\n",
    "            qc.h(i)\n",
    "            index+=1\n",
    "        ###\n",
    "        for i in range(Dim-1):\n",
    "            qc.cx(i,i+1)\n",
    "        ###추가\n",
    "        for i in range(Dim):\n",
    "            qc.h(i)\n",
    "            index+=1\n",
    "        for i in range(Dim):\n",
    "            qc.rz(Para_list[index],i)\n",
    "            index+=1\n",
    "        ###\n",
    "        for i in range(Dim):\n",
    "            qc.ry(Para_list[index],i)\n",
    "            index+=1\n",
    "        for i in range(Dim-1):\n",
    "            qc.cx(i,i+1) \n",
    "        for i in range(Dim):\n",
    "            qc.rz(Para_list[index],i)\n",
    "            index+=1\n",
    "        for i in range(Dim-1):\n",
    "            qc.cx(i,i+1)\n",
    "        for i in range(Dim):\n",
    "            qc.ry(Para_list[index],i)\n",
    "            index+=1\n",
    "        return qc\"\"\""
   ]
  },
  {
   "cell_type": "code",
   "execution_count": 8,
   "metadata": {},
   "outputs": [],
   "source": [
    "def parameter_circuit(state,*rep):\n",
    "    if len(rep)==0:\n",
    "        reps=1\n",
    "    else:\n",
    "        reps=rep[0]\n",
    "    \"\"\"def f(x):\n",
    "        state=temp1[0]\n",
    "        qc=temp2[0]\n",
    "        index=0\n",
    "        for i in qc.parameters:\n",
    "            qc=qc.bind_parameters({i:x[index]})\n",
    "            index+=1\n",
    "        result=get_statevector(qc).data@np.array(temp1[0])\n",
    "        return -result\"\"\"\n",
    "    state=normalize(state)\n",
    "    Dim=int(math.ceil(math.log2(len(state))))\n",
    "    temp1=[abs(state)]\n",
    "    \"\"\"qc_iso=QuantumCircuit(Dim)\n",
    "    parameter_=[Parameter(str(i)) for i in range(Dim)]\n",
    "    index3=0\n",
    "    for i in range(Dim):\n",
    "        qc_iso.h(i)\n",
    "    for i in parameter_:\n",
    "        qc_iso.ry(i,index3)\n",
    "        index3+=1\n",
    "    temp2=[qc_iso]\n",
    "    x0=np.zeros(Dim)\n",
    "    res=minimize(f,x0,options={'maxiter':12})\n",
    "    index4=0\n",
    "    for i in qc_iso.parameters:\n",
    "        qc_iso=qc_iso.bind_parameters({i:res.x[index4]})\n",
    "        index4+=1\n",
    "    print(qc_iso)\n",
    "    init=qc_iso.to_gate(label='sudo init')\"\"\"\n",
    "\n",
    "\n",
    "    qc=QuantumCircuit(Dim)\n",
    "    ##qc.append(init,range(0,Dim))\n",
    "    ##qc.append(EfficientSU2(Dim,reps=1,su2_gates=['ry','rz']),range(0,Dim))\n",
    "    Para_list=[]\n",
    "    for k in range(reps):\n",
    "        for i in range(Dim):\n",
    "            for j in range(3):\n",
    "                Para_list.append(Parameter(str(i)+str(j)+str(k)))\n",
    "    for k in range(reps):\n",
    "        for i in range(Dim):\n",
    "            Para_list.append(Parameter(str(i)+str(k)))\n",
    "    index=0\n",
    "    for j in range(reps):\n",
    "        for i in range(Dim):\n",
    "            qc.rx(Para_list[index],i)\n",
    "            index+=1\n",
    "        for i in range(Dim-1):\n",
    "            qc.cx(i,i+1)\n",
    "        for i in range(Dim):\n",
    "            qc.ry(Para_list[index],i)\n",
    "            index+=1\n",
    "        for i in range(Dim-1):\n",
    "            qc.cx(i,i+1) \n",
    "        for i in range(Dim):\n",
    "            qc.rz(Para_list[index],i)\n",
    "            index+=1\n",
    "        for i in range(Dim-1):\n",
    "            qc.cx(i,i+1)\n",
    "        for i in range(Dim):\n",
    "            qc.ry(Para_list[index],i)\n",
    "            index+=1\n",
    "    return qc"
   ]
  },
  {
   "cell_type": "code",
   "execution_count": 9,
   "metadata": {},
   "outputs": [],
   "source": [
    "def fuction1(x):\n",
    "    \n",
    "    Dim=1\n",
    "    f=0\n",
    "    for i in range(10):\n",
    "        qc=QuantumCircuit(1,1)\n",
    "        theta=[]\n",
    "        for j in range(12):\n",
    "            theta.append(Parameter('Theta'+str(j)))\n",
    "        for j in range(12):\n",
    "            if j<3:\n",
    "                qc.rx(theta[j],0)\n",
    "            elif j<6:\n",
    "                qc.ry(theta[j],0)\n",
    "            else:\n",
    "                qc.rz(theta[j],0)\n",
    "        index1=0\n",
    "        for j in qc.parameters:\n",
    "            qc=qc.bind_parameters({j:x[index1]})\n",
    "            index1=index1+1\n",
    "        data=get_statevector(qc).data\n",
    "        A=Clif_gate1[i]\n",
    "        A_mat=Operator(A).data\n",
    "        qc.append(A,[0])\n",
    "        qc.measure(0,0)\n",
    "        temp=[0]*2\n",
    "        job=execute(qc,backend,shots=1024)\n",
    "        result=job.result()\n",
    "        counts=result.get_counts(qc)\n",
    "        for j in counts.keys():\n",
    "            index=int(j,2)\n",
    "            temp[index]=float(counts[j])\n",
    "        temp1=A_mat@normalize([1,1])\n",
    "        p=temp@abs((temp1))**2\n",
    "        f=f+1/10240*((2**Dim+1)*p-1024)\n",
    "    return f,data"
   ]
  },
  {
   "cell_type": "code",
   "execution_count": 10,
   "metadata": {},
   "outputs": [],
   "source": [
    "def get_statevector(circuit):\n",
    "    backend = Aer.get_backend('statevector_simulator')\n",
    "    result = execute(circuit, backend).result()\n",
    "    statevector = result.get_statevector(circuit)\n",
    "    return statevector\n",
    "def get_value(state):\n",
    "    state=normalize(state)\n",
    "    Dim=int(math.ceil(math.log2(len(state))))\n",
    "    index=0\n",
    "    number=My_binary(index,Dim)\n",
    "    l=0\n",
    "    for j in number:\n",
    "        if l==0:\n",
    "            if j=='0':\n",
    "                op=I+Z\n",
    "            else:\n",
    "                op=I-Z\n",
    "        else:\n",
    "            if j=='0':\n",
    "                temp=I+Z\n",
    "            else:\n",
    "                temp=I-Z\n",
    "            op=op^temp\n",
    "        l+=1\n",
    "    C=op*-state[0]\n",
    "    for i in state:\n",
    "        if index==0:\n",
    "            index+=1\n",
    "        else:\n",
    "            number=My_binary(index,Dim)\n",
    "            k=0\n",
    "            for j in number:\n",
    "                if k==0:\n",
    "                    if j=='0':\n",
    "                        op=I+Z\n",
    "                    else:\n",
    "                        op=I-Z\n",
    "                else:\n",
    "                    if j=='0':\n",
    "                        temp=I+Z\n",
    "                    else:\n",
    "                        temp=I-Z\n",
    "                    op=op^temp\n",
    "                k+=1\n",
    "            C=C+op*(-i)\n",
    "            index+=1\n",
    "    return C"
   ]
  },
  {
   "cell_type": "code",
   "execution_count": 11,
   "metadata": {},
   "outputs": [],
   "source": [
    "def normalize(state_vector):\n",
    "    temp=np.array(state_vector)\n",
    "    normalized_v = temp / np.sqrt(np.sum(abs(temp)**2))\n",
    "    return normalized_v\n",
    "def My_binary(number,full):\n",
    "    def binary(number):\n",
    "        if number==0:\n",
    "            return '0'\n",
    "        if number==1:\n",
    "            return '1'\n",
    "        if (number%2==0):\n",
    "            return binary(number//2)+'0'\n",
    "        else:\n",
    "            return binary(number//2)+'1'\n",
    "    temp=binary(number)\n",
    "    while(len(temp)<full):\n",
    "        temp='0'+temp\n",
    "    return temp"
   ]
  },
  {
   "cell_type": "code",
   "execution_count": 12,
   "metadata": {},
   "outputs": [],
   "source": [
    "def optimize1(f,x0,*labm1):\n",
    "    if len(labm1)==0:\n",
    "        labm=0.5\n",
    "    else:\n",
    "        labm=labm1[0]\n",
    "    v=[0]*len(x0)\n",
    "    index=0\n",
    "    orginal=x0.copy()\n",
    "    x_plus=x0.copy()\n",
    "    x_minus=x0.copy()\n",
    "    ###fx_plus-fx_minus\n",
    "    delta_list=[]\n",
    "    \"\"\"if f(x0)<0.8:\n",
    "        labm=0.7\n",
    "    else:\"\"\"\n",
    "    A=True\n",
    "    for i in x0:\n",
    "        delta=0\n",
    "        x_plus[index]=x_plus[index]+np.pi/2\n",
    "        temp1=x_plus.copy()\n",
    "        x_minus[index]=x_minus[index]-np.pi/2\n",
    "        temp2=x_minus.copy()\n",
    "        plus=f(temp1)\n",
    "        minus=f(x_minus)\n",
    "        delta=labm*(plus-minus)\n",
    "        x0[index]=x0[index]+delta\n",
    "        x_plus=orginal.copy()\n",
    "        x_minus=orginal.copy()\n",
    "        index+=1\n",
    "        delta_list.append(delta)\n",
    "    result=f(x0)\n",
    "    return result"
   ]
  },
  {
   "cell_type": "code",
   "execution_count": 331,
   "metadata": {},
   "outputs": [
    {
     "data": {
      "text/plain": [
       "'state=np.random.rand(2**5)\\nqc=QuantumCircuit(5,5)\\nqc.initialize(normalize(state))\\nqc.h(0)\\nqc.measure(range(0,5),range(0,5))\\njob=execute(qc,backend=backend,shots=1000)\\nresult=job.result()\\ncount=result.get_counts(qc)'"
      ]
     },
     "execution_count": 331,
     "metadata": {},
     "output_type": "execute_result"
    }
   ],
   "source": [
    "\n",
    "\"\"\"state=np.random.rand(2**5)\n",
    "qc=QuantumCircuit(5,5)\n",
    "qc.initialize(normalize(state))\n",
    "qc.h(0)\n",
    "qc.measure(range(0,5),range(0,5))\n",
    "job=execute(qc,backend=backend,shots=1000)\n",
    "result=job.result()\n",
    "count=result.get_counts(qc)\"\"\""
   ]
  },
  {
   "cell_type": "code",
   "execution_count": 13,
   "metadata": {},
   "outputs": [
    {
     "data": {
      "text/plain": [
       "\"Dim=4\\nqc_iso=QuantumCircuit(Dim)\\nparameter_=[Parameter(str(i)) for i in range(Dim)]\\nindex3=0\\nfor i in parameter_:\\n    qc_iso.ry(i,index3)\\n    index3+=1\\ntemp=[qc_iso]\\ntemp1=[state]\\ndef f(x):\\n    state=temp1[0]\\n    qc=temp[0]\\n    index=0\\n    for i in qc.parameters:\\n        qc=qc.bind_parameters({i:x[index]})\\n        index+=1\\n    result=get_statevector(qc).data@np.array(temp1[0])\\n    return -result\\nx=np.zeros(16)\\nprint(f([-np.pi/2,-np.pi/2,-np.pi/2,-np.pi/2]))\\nres_y=minimize(f,x,options={'maxiter':100})\\nprint(res_y.x)\""
      ]
     },
     "execution_count": 13,
     "metadata": {},
     "output_type": "execute_result"
    }
   ],
   "source": [
    "from scipy.optimize import minimize\n",
    "\"\"\"Dim=4\n",
    "qc_iso=QuantumCircuit(Dim)\n",
    "parameter_=[Parameter(str(i)) for i in range(Dim)]\n",
    "index3=0\n",
    "for i in parameter_:\n",
    "    qc_iso.ry(i,index3)\n",
    "    index3+=1\n",
    "temp=[qc_iso]\n",
    "temp1=[state]\n",
    "def f(x):\n",
    "    state=temp1[0]\n",
    "    qc=temp[0]\n",
    "    index=0\n",
    "    for i in qc.parameters:\n",
    "        qc=qc.bind_parameters({i:x[index]})\n",
    "        index+=1\n",
    "    result=get_statevector(qc).data@np.array(temp1[0])\n",
    "    return -result\n",
    "x=np.zeros(16)\n",
    "print(f([-np.pi/2,-np.pi/2,-np.pi/2,-np.pi/2]))\n",
    "res_y=minimize(f,x,options={'maxiter':100})\n",
    "print(res_y.x)\"\"\""
   ]
  },
  {
   "cell_type": "code",
   "execution_count": 14,
   "metadata": {},
   "outputs": [],
   "source": [
    "state=normalize(np.random.rand(16))\n",
    "def temp_F(x):\n",
    "    qc=parameter_circuit(state,2)\n",
    "    ##A=random_clifford(qc.num_qubits)\n",
    "    ##c.append(A,range(0,qc.num_qubits))\n",
    "    A_mat=Operator(A).data\n",
    "    A_mat=A_mat.conjugate().T\n",
    "    j=0\n",
    "    for i in qc.parameters:\n",
    "        qc=qc.bind_parameters({i:x[j]})\n",
    "        j+=1\n",
    "    ##result=(A_mat@normalize(state)).conjugate()@get_statevector(qc).data\n",
    "    result=(normalize(state)).conjugate()@get_statevector(qc).data\n",
    "    return result"
   ]
  },
  {
   "cell_type": "code",
   "execution_count": 15,
   "metadata": {},
   "outputs": [],
   "source": [
    "import cmath\n",
    "def fuction(state,para,Clif_list,qc_list):\n",
    "    Dim=math.ceil(math.log2(len(state)))\n",
    "    \"\"\"qc_list=[]\n",
    "    Clif_list=[0]*100\n",
    "    for i in range(100):\n",
    "        qc=QuantumCircuit(Dim,Dim)\n",
    "        qc.append(EfficientSU2(Dim,reps=1),range(0,Dim))\n",
    "        A=random_clifford(Dim)\n",
    "        Clif_list[i]=A\n",
    "        A=Operator(A)\n",
    "        qc_iso=QuantumCircuit(Dim)\n",
    "        qc_iso.append(A,range(0,Dim))\n",
    "        Clif_gate=qc_iso.to_gate()\n",
    "        Clif_gate.label=\"Clif\"+str(i)\n",
    "        qc.append(Clif_gate,range(0,Dim))\n",
    "        qc.measure(range(0,Dim),range(0,Dim))\n",
    "        qc_list.append(qc)\"\"\"\n",
    "    state=normalize(state)\n",
    "    Observe=np.outer(state,state)\n",
    "    bind_qc=[]\n",
    "    tem_list=[0]\n",
    "    tem_list[0]=qc_list[0]\n",
    "    for i in tem_list:\n",
    "        index=0\n",
    "        for j in i.parameters:\n",
    "            i=i.bind_parameters({j:para[index]})\n",
    "            index+=1\n",
    "        bind_qc.append(i)\n",
    "    f=0\n",
    "    backend=Aer.get_backend('aer_simulator')\n",
    "    for i in range(len(Clif_list)):\n",
    "        temp=[0]*2**Dim\n",
    "        job=execute(bind_qc[i],backend,shots=512)\n",
    "        result=job.result()\n",
    "        counts=result.get_counts(bind_qc[i])\n",
    "        for j in counts.keys():\n",
    "            index=int(j,2)\n",
    "            temp[index]=float(counts[j])\n",
    "        A_mat=Operator(Clif_list[i]).data\n",
    "        A_mat_dagger=A_mat.conjugate().T\n",
    "        temp1=A_mat@state\n",
    "        temp=np.array(temp).conjugate()\n",
    "        p=temp@abs(temp1)**2\n",
    "        f=f+1/(len(Clif_list)*512)*((2**Dim+1)*p-512)\n",
    "    \"\"\"for i in range(10):\n",
    "        temp=[0]*Dim**2\n",
    "        job=execute(bind_qc[i],backend,shots=1024)\n",
    "        result=job.result()\n",
    "        counts=result.get_counts(bind_qc[i])\n",
    "        for j in counts.keys():\n",
    "            index=int(j,2)\n",
    "            temp[index]=float(counts[j])\n",
    "        temp=normalize(temp)\n",
    "        A_mat=Operator(Clif_list[i]).data\n",
    "        A_mat_dagger=A_mat.conjugate().T\n",
    "        temp1=A_mat@state\n",
    "        p=abs(temp@temp1)**2\n",
    "        listA.append(p)\n",
    "        f=f+1/10*((2**Dim+1)*p-1)\"\"\"\n",
    "    return f\n",
    "def list_phase(x):\n",
    "    all1=0\n",
    "    for i in x:\n",
    "        all1=all1+i\n",
    "    av=all1/len(x)\n",
    "    phase=complex(0,cmath.phase(np.sum(x)/len(x)))\n",
    "    asd=cmath.exp(-phase)\n",
    "    return x*asd"
   ]
  },
  {
   "cell_type": "code",
   "execution_count": 44,
   "metadata": {},
   "outputs": [
    {
     "data": {
      "image/png": "[encoded data removed]",
      "text/plain": [
       "<Figure size 1374.44x451.5 with 1 Axes>"
      ]
     },
     "execution_count": 44,
     "metadata": {},
     "output_type": "execute_result"
    }
   ],
   "source": [
    "###shadow 개수 조절\n",
    "Shadow_num=20\n",
    "###Dimension 조절 2^D\n",
    "Dim=4\n",
    "##Paramter, Circuit depth 조절\n",
    "rep=2\n",
    "qc_list=[]\n",
    "Clif_list=[0]*Shadow_num\n",
    "for i in range(Shadow_num):\n",
    "    qc=QuantumCircuit(Dim,Dim)\n",
    "    qc.append(EfficientSU2(Dim,reps=rep),range(0,Dim))\n",
    "    A=random_clifford(Dim)\n",
    "    A=Operator(A)\n",
    "    qc_iso=QuantumCircuit(Dim)\n",
    "    qc_iso.append(A,range(0,Dim))\n",
    "    Clif_gate=qc_iso.to_gate()\n",
    "    Clif_gate.label=\"Clifford\"\n",
    "    Clif_list[i]=Clif_gate\n",
    "    qc.append(Clif_gate,range(0,Dim))\n",
    "    qc.measure(range(0,Dim),range(0,Dim))\n",
    "    qc_list.append(qc)\n",
    "for j in qc_list:\n",
    "    A=j.parameters\n",
    "    for k in A:\n",
    "        j=j.bind_parameters({k:1})\n",
    "qc.draw(output = 'mpl')"
   ]
  },
  {
   "cell_type": "code",
   "execution_count": 52,
   "metadata": {},
   "outputs": [
    {
     "data": {
      "image/png": "[encoded data removed]",
      "text/plain": [
       "<Figure size 956.385x284.278 with 1 Axes>"
      ]
     },
     "execution_count": 52,
     "metadata": {},
     "output_type": "execute_result"
    }
   ],
   "source": [
    "theta=Parameter('θ')\n",
    "qc = QuantumCircuit(3)  # create a circuit and append the RY variational form\n",
    "qc.ry(theta,0)\n",
    "qc.ry(theta,1)\n",
    "qc.ry(theta,2)\n",
    "qc.rz(theta,0)\n",
    "qc.rz(theta,1)\n",
    "qc.rz(theta,2)\n",
    "qc.cx(0,1)\n",
    "qc.cx(0,2)\n",
    "qc.cx(1,2)\n",
    "qc.ry(theta,0)\n",
    "qc.ry(theta,1)\n",
    "qc.ry(theta,2)\n",
    "qc.rz(theta,0)\n",
    "qc.rz(theta,1)\n",
    "qc.rz(theta,2)\n",
    "qc.cx(0,1)\n",
    "qc.cx(0,2)\n",
    "qc.cx(1,2)\n",
    "qc.draw(output='mpl')"
   ]
  },
  {
   "cell_type": "code",
   "execution_count": 17,
   "metadata": {},
   "outputs": [],
   "source": [
    "def find_shadow(state,Clif_list):\n",
    "    print(len(Clif_list))\n",
    "    state=normalize(state)\n",
    "    max=0\n",
    "    Prob_max=0\n",
    "    max_shadow=Clif_list[0]\n",
    "    for i in Clif_list:\n",
    "        A_mat=Operator(i).data\n",
    "        Prob=abs(A_mat@state)**2\n",
    "        if(max<np.sum(Prob**2)):\n",
    "            max=np.sum(Prob**2)\n",
    "            max_shadow=i\n",
    "    return Operator(max_shadow).data@state,max"
   ]
  },
  {
   "cell_type": "code",
   "execution_count": 18,
   "metadata": {},
   "outputs": [],
   "source": [
    "###state 넣고 싶은거 넣는곳\n",
    "##state=np.random.randn(2**Dim)\n",
    "###itteration 횟수 조절\n",
    "it=10"
   ]
  },
  {
   "cell_type": "code",
   "execution_count": 39,
   "metadata": {},
   "outputs": [
    {
     "name": "stdout",
     "output_type": "stream",
     "text": [
      "20\n",
      "돌아간 횟수: 0\n"
     ]
    },
    {
     "ename": "ValueError",
     "evalue": "matmul: Input operand 1 does not have enough dimensions (has 0, gufunc core with signature (n?,k),(k,m?)->(n?,m?) requires 1)",
     "output_type": "error",
     "traceback": [
      "\u001b[1;31m---------------------------------------------------------------------------\u001b[0m",
      "\u001b[1;31mValueError\u001b[0m                                Traceback (most recent call last)",
      "Cell \u001b[1;32mIn [39], line 28\u001b[0m\n\u001b[0;32m     26\u001b[0m     \u001b[39mreturn\u001b[39;00m fuction(state,para,temp_list,qc_list)\n\u001b[0;32m     27\u001b[0m \u001b[39mprint\u001b[39m(\u001b[39mf\u001b[39m\u001b[39m\"\u001b[39m\u001b[39m돌아간 횟수: \u001b[39m\u001b[39m{\u001b[39;00mi\u001b[39m}\u001b[39;00m\u001b[39m\"\u001b[39m)\n\u001b[1;32m---> 28\u001b[0m A\u001b[39m.\u001b[39mappend(optimize1(fuction1,x0,\u001b[39m0.5\u001b[39;49m))\n\u001b[0;32m     29\u001b[0m x0_list\u001b[39m.\u001b[39mappend(x0)\n\u001b[0;32m     30\u001b[0m itter\u001b[39m.\u001b[39mappend(i)                                                                                                                                \n",
      "Cell \u001b[1;32mIn [12], line 23\u001b[0m, in \u001b[0;36moptimize1\u001b[1;34m(f, x0, *labm1)\u001b[0m\n\u001b[0;32m     21\u001b[0m x_minus[index]\u001b[39m=\u001b[39mx_minus[index]\u001b[39m-\u001b[39mnp\u001b[39m.\u001b[39mpi\u001b[39m/\u001b[39m\u001b[39m2\u001b[39m\n\u001b[0;32m     22\u001b[0m temp2\u001b[39m=\u001b[39mx_minus\u001b[39m.\u001b[39mcopy()\n\u001b[1;32m---> 23\u001b[0m plus\u001b[39m=\u001b[39mf(temp1)\n\u001b[0;32m     24\u001b[0m minus\u001b[39m=\u001b[39mf(x_minus)\n\u001b[0;32m     25\u001b[0m delta\u001b[39m=\u001b[39mlabm\u001b[39m*\u001b[39m(plus\u001b[39m-\u001b[39mminus)\n",
      "Cell \u001b[1;32mIn [39], line 26\u001b[0m, in \u001b[0;36mfuction1\u001b[1;34m(para)\u001b[0m\n\u001b[0;32m     25\u001b[0m \u001b[39mdef\u001b[39;00m \u001b[39mfuction1\u001b[39m(para):\n\u001b[1;32m---> 26\u001b[0m     \u001b[39mreturn\u001b[39;00m fuction(state,para,temp_list,qc_list)\n",
      "Cell \u001b[1;32mIn [15], line 44\u001b[0m, in \u001b[0;36mfuction\u001b[1;34m(state, para, Clif_list, qc_list)\u001b[0m\n\u001b[0;32m     42\u001b[0m     temp1\u001b[39m=\u001b[39mA_mat\u001b[39m@state\u001b[39m\n\u001b[0;32m     43\u001b[0m     temp\u001b[39m=\u001b[39mnp\u001b[39m.\u001b[39marray(temp)\u001b[39m.\u001b[39mconjugate()\n\u001b[1;32m---> 44\u001b[0m     p\u001b[39m=\u001b[39mtemp\u001b[39m@abs\u001b[39;49m(temp1)\u001b[39m*\u001b[39;49m\u001b[39m*\u001b[39;49m\u001b[39m2\u001b[39;49m\n\u001b[0;32m     45\u001b[0m     f\u001b[39m=\u001b[39mf\u001b[39m+\u001b[39m\u001b[39m1\u001b[39m\u001b[39m/\u001b[39m(\u001b[39mlen\u001b[39m(Clif_list)\u001b[39m*\u001b[39m\u001b[39m512\u001b[39m)\u001b[39m*\u001b[39m((\u001b[39m2\u001b[39m\u001b[39m*\u001b[39m\u001b[39m*\u001b[39mDim\u001b[39m+\u001b[39m\u001b[39m1\u001b[39m)\u001b[39m*\u001b[39mp\u001b[39m-\u001b[39m\u001b[39m512\u001b[39m)\n\u001b[0;32m     46\u001b[0m \u001b[39m\"\"\"for i in range(10):\u001b[39;00m\n\u001b[0;32m     47\u001b[0m \u001b[39m    temp=[0]*Dim**2\u001b[39;00m\n\u001b[0;32m     48\u001b[0m \u001b[39m    job=execute(bind_qc[i],backend,shots=1024)\u001b[39;00m\n\u001b[1;32m   (...)\u001b[0m\n\u001b[0;32m     59\u001b[0m \u001b[39m    listA.append(p)\u001b[39;00m\n\u001b[0;32m     60\u001b[0m \u001b[39m    f=f+1/10*((2**Dim+1)*p-1)\"\"\"\u001b[39;00m\n",
      "\u001b[1;31mValueError\u001b[0m: matmul: Input operand 1 does not have enough dimensions (has 0, gufunc core with signature (n?,k),(k,m?)->(n?,m?) requires 1)"
     ]
    }
   ],
   "source": [
    "\"\"\"A=[[] for j in range(4)]\n",
    "state=[1]+[0]*14+[1]\n",
    "state=normalize(state)\n",
    "itter=[]\n",
    "state_list=[[] for j in range(4)]\n",
    "x0_list=[[] for j in range(4)]\n",
    "fid_list=[[] for j in range(4)]\"\"\"\n",
    "A=[]\n",
    "x0_list=[]\n",
    "itter=[]\n",
    "temp_list=[0]\n",
    "temp_list[0],max1=find_shadow(state,Clif_list)\n",
    "## 작동안되면 이거 값 바꾸기 16이나 24나 32 넣기\n",
    "init=24\n",
    "for i in qc_list[1].parameters:\n",
    "    init+=1\n",
    "##x0=np.zeros(init)\n",
    "\"\"\"for j in range(4):\n",
    "    itter=[]\n",
    "    x0=np.zeros(8)\n",
    "    state=np.random.rand(4)\n",
    "    state_list[j].append(state)\"\"\"\n",
    "\n",
    "for i in range(it):\n",
    "    def fuction1(para):\n",
    "        return fuction(state,para,temp_list,qc_list)\n",
    "    print(f\"돌아간 횟수: {i}\")\n",
    "    A.append(optimize1(fuction1,x0,0.5))\n",
    "    x0_list.append(x0)\n",
    "    itter.append(i)                                                                                                                                \n",
    "plt.plot(itter,A,label=f\"state{0}\")\n",
    "plt.legend(loc='upper right')\n",
    "plt.xlabel(\"itter\")\n",
    "plt.ylabel(\"fidelity\")"
   ]
  },
  {
   "cell_type": "code",
   "execution_count": 23,
   "metadata": {},
   "outputs": [
    {
     "name": "stdout",
     "output_type": "stream",
     "text": [
      "Qubit 수 : 4, Shadow 수 : 20, reps 수=2\n",
      "state0 Fidelity: (0.18576489133544172+0j)\n",
      "q_state0:[-1.-0.j -0.-0.j -0.-0.j -0.-0.j -0.-0.j -0.-0.j -0.-0.j -0.-0.j -0.-0.j\n",
      " -0.-0.j -0.-0.j -0.-0.j -0.-0.j -0.-0.j -0.-0.j -0.-0.j] state0: [0.18576489 0.0937393  0.40291219 0.27106777 0.10662155 0.0917925\n",
      " 0.19260638 0.41249556 0.28995494 0.01001552 0.34915054 0.19928052\n",
      " 0.31448088 0.26437894 0.151101   0.23754072] \n"
     ]
    }
   ],
   "source": [
    "##최적화 결과 확인\n",
    "qc=QuantumCircuit(Dim)\n",
    "qc.append(EfficientSU2(Dim,reps=rep),range(0,Dim))\n",
    "index=0\n",
    "for j in qc.parameters:\n",
    "    ##qc=qc.bind_parameters({j:x0_list[it-1][index]})\n",
    "    ##qc=qc.bind_parameters({j:temp[index]})\n",
    "    qc=qc.bind_parameters({j:x0[index]})\n",
    "    index=index+1\n",
    "### fidelity 낮게 나오면 밑에꺼 주석처리하고\n",
    "print(f\"Qubit 수 : {Dim}, Shadow 수 : {Shadow_num}, reps 수={rep}\")\n",
    "print(f\"state{0} Fidelity:\",(list_phase((get_statevector(qc).data))@np.array(normalize(state))))\n",
    "### 이거 주석 삭제하고 다시 해보기\n",
    "###print(f\"state{0} Fidelity:\",abs(((get_statevector(qc).data)@np.array(normalize(state)))))\n",
    "print(f\"q_state{0}:{-np.round((((list_phase((get_statevector(qc).data))))),4)} state{0}: {normalize(state)} \")"
   ]
  },
  {
   "cell_type": "code",
   "execution_count": 24,
   "metadata": {},
   "outputs": [
    {
     "data": {
      "text/plain": [
       "'for i in range(4):\\n    qc=QuantumCircuit(2)\\n    qc.append(EfficientSU2(2,reps=1),range(0,2))\\n    index=0\\n    temp=np.random.rand(8)\\n    for j in qc.parameters:\\n        qc=qc.bind_parameters({j:x0_list[i][3][index]})\\n        ##qc=qc.bind_parameters({j:temp[index]})\\n        ##qc=qc.bind_parameters({j:x0[index]})\\n        index=index+1\\n    \\n    print(f\"state{i} Fidelity:\",(list_phase(get_statevector(qc)).data@np.array(normalize(state_list[i][0]))).real)\\n    print(f\"q_state{i}:{np.round(list_phase(get_statevector(qc)).data,4).real} state{i}: {normalize(state_list[i][0])} \")'"
      ]
     },
     "execution_count": 24,
     "metadata": {},
     "output_type": "execute_result"
    }
   ],
   "source": [
    "\"\"\"for i in range(4):\n",
    "    qc=QuantumCircuit(2)\n",
    "    qc.append(EfficientSU2(2,reps=1),range(0,2))\n",
    "    index=0\n",
    "    temp=np.random.rand(8)\n",
    "    for j in qc.parameters:\n",
    "        qc=qc.bind_parameters({j:x0_list[i][3][index]})\n",
    "        ##qc=qc.bind_parameters({j:temp[index]})\n",
    "        ##qc=qc.bind_parameters({j:x0[index]})\n",
    "        index=index+1\n",
    "    \n",
    "    print(f\"state{i} Fidelity:\",(list_phase(get_statevector(qc)).data@np.array(normalize(state_list[i][0]))).real)\n",
    "    print(f\"q_state{i}:{np.round(list_phase(get_statevector(qc)).data,4).real} state{i}: {normalize(state_list[i][0])} \")\"\"\""
   ]
  },
  {
   "cell_type": "code",
   "execution_count": 25,
   "metadata": {},
   "outputs": [
    {
     "ename": "NameError",
     "evalue": "name 'state_list' is not defined",
     "output_type": "error",
     "traceback": [
      "\u001b[1;31m---------------------------------------------------------------------------\u001b[0m",
      "\u001b[1;31mNameError\u001b[0m                                 Traceback (most recent call last)",
      "Cell \u001b[1;32mIn [25], line 1\u001b[0m\n\u001b[1;32m----> 1\u001b[0m list_phase(get_statevector(qc)\u001b[39m.\u001b[39mdata),normalize(state_list[\u001b[39m3\u001b[39m][\u001b[39m0\u001b[39m])\n",
      "\u001b[1;31mNameError\u001b[0m: name 'state_list' is not defined"
     ]
    }
   ],
   "source": [
    "list_phase(get_statevector(qc).data),normalize(state_list[3][0])"
   ]
  },
  {
   "cell_type": "code",
   "execution_count": 26,
   "metadata": {},
   "outputs": [],
   "source": [
    "def list_phase(x):\n",
    "    all1=0\n",
    "    for i in x:\n",
    "        all1=all1+i\n",
    "    av=all1/4\n",
    "    phase=complex(0,cmath.phase(np.sum(tem/abs(tem))/4))\n",
    "    asd=cmath.exp(phase)\n",
    "    return x*asd"
   ]
  },
  {
   "cell_type": "code",
   "execution_count": 27,
   "metadata": {},
   "outputs": [
    {
     "ename": "IndexError",
     "evalue": "list index out of range",
     "output_type": "error",
     "traceback": [
      "\u001b[1;31m---------------------------------------------------------------------------\u001b[0m",
      "\u001b[1;31mIndexError\u001b[0m                                Traceback (most recent call last)",
      "Cell \u001b[1;32mIn [27], line 7\u001b[0m\n\u001b[0;32m      5\u001b[0m \u001b[39m##x0=[np.pi]*16 \u001b[39;00m\n\u001b[0;32m      6\u001b[0m \u001b[39mfor\u001b[39;00m j \u001b[39min\u001b[39;00m qc\u001b[39m.\u001b[39mparameters:\n\u001b[1;32m----> 7\u001b[0m     qc\u001b[39m=\u001b[39mqc\u001b[39m.\u001b[39mbind_parameters({j:x0_list[i][\u001b[39m3\u001b[39m][index]})\n\u001b[0;32m      8\u001b[0m     index\u001b[39m=\u001b[39mindex\u001b[39m+\u001b[39m\u001b[39m1\u001b[39m\n\u001b[0;32m      9\u001b[0m get_statevector(qc)\u001b[39m.\u001b[39mdata,normalize(state_list[i][\u001b[39m0\u001b[39m])\n",
      "\u001b[1;31mIndexError\u001b[0m: list index out of range"
     ]
    }
   ],
   "source": [
    "qc=QuantumCircuit(2)\n",
    "i=2\n",
    "qc.append(EfficientSU2(2,reps=1),range(0,2))\n",
    "index=0\n",
    "##x0=[np.pi]*16 \n",
    "for j in qc.parameters:\n",
    "    qc=qc.bind_parameters({j:x0_list[i][3][index]})\n",
    "    index=index+1\n",
    "get_statevector(qc).data,normalize(state_list[i][0])"
   ]
  },
  {
   "cell_type": "code",
   "execution_count": 28,
   "metadata": {},
   "outputs": [
    {
     "ename": "QiskitError",
     "evalue": "'Mismatch between run_config.parameter_binds and all circuit parameters. Parameter binds: [] Circuit parameters: [ParameterView([ParameterVectorElement(θ[0]), ParameterVectorElement(θ[1]), ParameterVectorElement(θ[2]), ParameterVectorElement(θ[3]), ParameterVectorElement(θ[4]), ParameterVectorElement(θ[5]), ParameterVectorElement(θ[6]), ParameterVectorElement(θ[7])])]'",
     "output_type": "error",
     "traceback": [
      "\u001b[1;31m---------------------------------------------------------------------------\u001b[0m",
      "\u001b[1;31mQiskitError\u001b[0m                               Traceback (most recent call last)",
      "Cell \u001b[1;32mIn [28], line 2\u001b[0m\n\u001b[0;32m      1\u001b[0m \u001b[39mimport\u001b[39;00m \u001b[39mcmath\u001b[39;00m\n\u001b[1;32m----> 2\u001b[0m tem\u001b[39m=\u001b[39mget_statevector(qc)\u001b[39m.\u001b[39mdata\n\u001b[0;32m      3\u001b[0m np\u001b[39m.\u001b[39msum(tem\u001b[39m/\u001b[39m\u001b[39mabs\u001b[39m(tem))\u001b[39m/\u001b[39m\u001b[39m4\u001b[39m\n\u001b[0;32m      4\u001b[0m phase\u001b[39m=\u001b[39m\u001b[39mcomplex\u001b[39m(\u001b[39m0\u001b[39m,cmath\u001b[39m.\u001b[39mphase(np\u001b[39m.\u001b[39msum(tem\u001b[39m/\u001b[39m\u001b[39mabs\u001b[39m(tem))\u001b[39m/\u001b[39m\u001b[39m4\u001b[39m))\n",
      "Cell \u001b[1;32mIn [10], line 3\u001b[0m, in \u001b[0;36mget_statevector\u001b[1;34m(circuit)\u001b[0m\n\u001b[0;32m      1\u001b[0m \u001b[39mdef\u001b[39;00m \u001b[39mget_statevector\u001b[39m(circuit):\n\u001b[0;32m      2\u001b[0m     backend \u001b[39m=\u001b[39m Aer\u001b[39m.\u001b[39mget_backend(\u001b[39m'\u001b[39m\u001b[39mstatevector_simulator\u001b[39m\u001b[39m'\u001b[39m)\n\u001b[1;32m----> 3\u001b[0m     result \u001b[39m=\u001b[39m execute(circuit, backend)\u001b[39m.\u001b[39mresult()\n\u001b[0;32m      4\u001b[0m     statevector \u001b[39m=\u001b[39m result\u001b[39m.\u001b[39mget_statevector(circuit)\n\u001b[0;32m      5\u001b[0m     \u001b[39mreturn\u001b[39;00m statevector\n",
      "File \u001b[1;32mc:\\Users\\cbk92\\anaconda3\\envs\\IBM\\lib\\site-packages\\qiskit\\execute_function.py:375\u001b[0m, in \u001b[0;36mexecute\u001b[1;34m(experiments, backend, basis_gates, coupling_map, backend_properties, initial_layout, seed_transpiler, optimization_level, pass_manager, qobj_id, qobj_header, shots, memory, max_credits, seed_simulator, default_qubit_los, default_meas_los, qubit_lo_range, meas_lo_range, schedule_los, meas_level, meas_return, memory_slots, memory_slot_size, rep_time, rep_delay, parameter_binds, schedule_circuit, inst_map, meas_map, scheduling_method, init_qubits, **run_config)\u001b[0m\n\u001b[0;32m    373\u001b[0m     run_kwargs[\u001b[39m\"\u001b[39m\u001b[39mparameter_binds\u001b[39m\u001b[39m\"\u001b[39m] \u001b[39m=\u001b[39m parameter_binds\n\u001b[0;32m    374\u001b[0m run_kwargs\u001b[39m.\u001b[39mupdate(run_config)\n\u001b[1;32m--> 375\u001b[0m job \u001b[39m=\u001b[39m backend\u001b[39m.\u001b[39mrun(experiments, \u001b[39m*\u001b[39m\u001b[39m*\u001b[39mrun_kwargs)\n\u001b[0;32m    376\u001b[0m end_time \u001b[39m=\u001b[39m time()\n\u001b[0;32m    377\u001b[0m _log_submission_time(start_time, end_time)\n",
      "File \u001b[1;32mc:\\Users\\cbk92\\anaconda3\\envs\\IBM\\lib\\site-packages\\qiskit\\utils\\deprecation.py:28\u001b[0m, in \u001b[0;36mdeprecate_arguments.<locals>.decorator.<locals>.wrapper\u001b[1;34m(*args, **kwargs)\u001b[0m\n\u001b[0;32m     26\u001b[0m \u001b[39mif\u001b[39;00m kwargs:\n\u001b[0;32m     27\u001b[0m     _rename_kwargs(func\u001b[39m.\u001b[39m\u001b[39m__name__\u001b[39m, kwargs, kwarg_map, category)\n\u001b[1;32m---> 28\u001b[0m \u001b[39mreturn\u001b[39;00m func(\u001b[39m*\u001b[39margs, \u001b[39m*\u001b[39m\u001b[39m*\u001b[39mkwargs)\n",
      "File \u001b[1;32mc:\\Users\\cbk92\\anaconda3\\envs\\IBM\\lib\\site-packages\\qiskit_aer\\backends\\aerbackend.py:187\u001b[0m, in \u001b[0;36mAerBackend.run\u001b[1;34m(self, circuits, validate, parameter_binds, **run_options)\u001b[0m\n\u001b[0;32m    185\u001b[0m     qobj \u001b[39m=\u001b[39m \u001b[39mself\u001b[39m\u001b[39m.\u001b[39m_assemble(circuits, \u001b[39m*\u001b[39m\u001b[39m*\u001b[39mrun_options)\n\u001b[0;32m    186\u001b[0m \u001b[39melse\u001b[39;00m:\n\u001b[1;32m--> 187\u001b[0m     qobj \u001b[39m=\u001b[39m \u001b[39mself\u001b[39m\u001b[39m.\u001b[39m_assemble(circuits, parameter_binds\u001b[39m=\u001b[39mparameter_binds, \u001b[39m*\u001b[39m\u001b[39m*\u001b[39mrun_options)\n\u001b[0;32m    189\u001b[0m \u001b[39m# Optional validation\u001b[39;00m\n\u001b[0;32m    190\u001b[0m \u001b[39mif\u001b[39;00m validate:\n",
      "File \u001b[1;32mc:\\Users\\cbk92\\anaconda3\\envs\\IBM\\lib\\site-packages\\qiskit_aer\\backends\\aerbackend.py:400\u001b[0m, in \u001b[0;36mAerBackend._assemble\u001b[1;34m(self, circuits, parameter_binds, **run_options)\u001b[0m\n\u001b[0;32m    398\u001b[0m             qobj \u001b[39m=\u001b[39m qobj_tmp\n\u001b[0;32m    399\u001b[0m \u001b[39melse\u001b[39;00m:\n\u001b[1;32m--> 400\u001b[0m     qobj \u001b[39m=\u001b[39m assemble(circuits, backend\u001b[39m=\u001b[39;49m\u001b[39mself\u001b[39;49m)\n\u001b[0;32m    402\u001b[0m \u001b[39m# Add optypes to qobj\u001b[39;00m\n\u001b[0;32m    403\u001b[0m \u001b[39m# We convert to strings to avoid pybinding of types\u001b[39;00m\n\u001b[0;32m    404\u001b[0m qobj\u001b[39m.\u001b[39mconfig\u001b[39m.\u001b[39moptypes \u001b[39m=\u001b[39m [\n\u001b[0;32m    405\u001b[0m     \u001b[39mset\u001b[39m(i\u001b[39m.\u001b[39m\u001b[39m__name__\u001b[39m \u001b[39mfor\u001b[39;00m i \u001b[39min\u001b[39;00m optype) \u001b[39mif\u001b[39;00m optype \u001b[39melse\u001b[39;00m \u001b[39mset\u001b[39m()\n\u001b[0;32m    406\u001b[0m     \u001b[39mfor\u001b[39;00m optype \u001b[39min\u001b[39;00m optypes]\n",
      "File \u001b[1;32mc:\\Users\\cbk92\\anaconda3\\envs\\IBM\\lib\\site-packages\\qiskit\\compiler\\assembler.py:203\u001b[0m, in \u001b[0;36massemble\u001b[1;34m(experiments, backend, qobj_id, qobj_header, shots, memory, max_credits, seed_simulator, qubit_lo_freq, meas_lo_freq, qubit_lo_range, meas_lo_range, schedule_los, meas_level, meas_return, meas_map, memory_slot_size, rep_time, rep_delay, parameter_binds, parametric_pulses, init_qubits, **run_config)\u001b[0m\n\u001b[0;32m    193\u001b[0m run_config \u001b[39m=\u001b[39m _parse_circuit_args(\n\u001b[0;32m    194\u001b[0m     parameter_binds,\n\u001b[0;32m    195\u001b[0m     backend,\n\u001b[1;32m   (...)\u001b[0m\n\u001b[0;32m    199\u001b[0m     \u001b[39m*\u001b[39m\u001b[39m*\u001b[39mrun_config_common_dict,\n\u001b[0;32m    200\u001b[0m )\n\u001b[0;32m    202\u001b[0m \u001b[39m# If circuits are parameterized, bind parameters and remove from run_config\u001b[39;00m\n\u001b[1;32m--> 203\u001b[0m bound_experiments, run_config \u001b[39m=\u001b[39m _expand_parameters(\n\u001b[0;32m    204\u001b[0m     circuits\u001b[39m=\u001b[39;49mexperiments, run_config\u001b[39m=\u001b[39;49mrun_config\n\u001b[0;32m    205\u001b[0m )\n\u001b[0;32m    206\u001b[0m end_time \u001b[39m=\u001b[39m time()\n\u001b[0;32m    207\u001b[0m _log_assembly_time(start_time, end_time)\n",
      "File \u001b[1;32mc:\\Users\\cbk92\\anaconda3\\envs\\IBM\\lib\\site-packages\\qiskit\\compiler\\assembler.py:596\u001b[0m, in \u001b[0;36m_expand_parameters\u001b[1;34m(circuits, run_config)\u001b[0m\n\u001b[0;32m    589\u001b[0m \u001b[39m# Check that all parameters are common to all circuits and binds\u001b[39;00m\n\u001b[0;32m    590\u001b[0m \u001b[39mif\u001b[39;00m (\n\u001b[0;32m    591\u001b[0m     \u001b[39mnot\u001b[39;00m all_bind_parameters\n\u001b[0;32m    592\u001b[0m     \u001b[39mor\u001b[39;00m \u001b[39mnot\u001b[39;00m all_circuit_parameters\n\u001b[0;32m    593\u001b[0m     \u001b[39mor\u001b[39;00m \u001b[39many\u001b[39m(unique_parameters \u001b[39m!=\u001b[39m bind_params \u001b[39mfor\u001b[39;00m bind_params \u001b[39min\u001b[39;00m all_bind_parameters)\n\u001b[0;32m    594\u001b[0m     \u001b[39mor\u001b[39;00m \u001b[39many\u001b[39m(unique_parameters \u001b[39m!=\u001b[39m parameters \u001b[39mfor\u001b[39;00m parameters \u001b[39min\u001b[39;00m all_circuit_parameters)\n\u001b[0;32m    595\u001b[0m ):\n\u001b[1;32m--> 596\u001b[0m     \u001b[39mraise\u001b[39;00m QiskitError(\n\u001b[0;32m    597\u001b[0m         (\n\u001b[0;32m    598\u001b[0m             \u001b[39m\"\u001b[39m\u001b[39mMismatch between run_config.parameter_binds and all circuit parameters. \u001b[39m\u001b[39m\"\u001b[39m\n\u001b[0;32m    599\u001b[0m             \u001b[39m+\u001b[39m \u001b[39m\"\u001b[39m\u001b[39mParameter binds: \u001b[39m\u001b[39m{}\u001b[39;00m\u001b[39m \u001b[39m\u001b[39m\"\u001b[39m\n\u001b[0;32m    600\u001b[0m             \u001b[39m+\u001b[39m \u001b[39m\"\u001b[39m\u001b[39mCircuit parameters: \u001b[39m\u001b[39m{}\u001b[39;00m\u001b[39m\"\u001b[39m\n\u001b[0;32m    601\u001b[0m         )\u001b[39m.\u001b[39mformat(all_bind_parameters, all_circuit_parameters)\n\u001b[0;32m    602\u001b[0m     )\n\u001b[0;32m    604\u001b[0m circuits \u001b[39m=\u001b[39m [\n\u001b[0;32m    605\u001b[0m     circuit\u001b[39m.\u001b[39mbind_parameters(binds) \u001b[39mfor\u001b[39;00m circuit \u001b[39min\u001b[39;00m circuits \u001b[39mfor\u001b[39;00m binds \u001b[39min\u001b[39;00m parameter_binds\n\u001b[0;32m    606\u001b[0m ]\n\u001b[0;32m    608\u001b[0m \u001b[39m# All parameters have been expanded and bound, so remove from run_config\u001b[39;00m\n",
      "\u001b[1;31mQiskitError\u001b[0m: 'Mismatch between run_config.parameter_binds and all circuit parameters. Parameter binds: [] Circuit parameters: [ParameterView([ParameterVectorElement(θ[0]), ParameterVectorElement(θ[1]), ParameterVectorElement(θ[2]), ParameterVectorElement(θ[3]), ParameterVectorElement(θ[4]), ParameterVectorElement(θ[5]), ParameterVectorElement(θ[6]), ParameterVectorElement(θ[7])])]'"
     ]
    }
   ],
   "source": [
    "import cmath\n",
    "tem=get_statevector(qc).data\n",
    "np.sum(tem/abs(tem))/4\n",
    "phase=complex(0,cmath.phase(np.sum(tem/abs(tem))/4))\n",
    "asd=cmath.exp(phase)"
   ]
  },
  {
   "cell_type": "code",
   "execution_count": 29,
   "metadata": {},
   "outputs": [
    {
     "ename": "QiskitError",
     "evalue": "'Mismatch between run_config.parameter_binds and all circuit parameters. Parameter binds: [] Circuit parameters: [ParameterView([ParameterVectorElement(θ[0]), ParameterVectorElement(θ[1]), ParameterVectorElement(θ[2]), ParameterVectorElement(θ[3]), ParameterVectorElement(θ[4]), ParameterVectorElement(θ[5]), ParameterVectorElement(θ[6]), ParameterVectorElement(θ[7])])]'",
     "output_type": "error",
     "traceback": [
      "\u001b[1;31m---------------------------------------------------------------------------\u001b[0m",
      "\u001b[1;31mQiskitError\u001b[0m                               Traceback (most recent call last)",
      "Cell \u001b[1;32mIn [29], line 1\u001b[0m\n\u001b[1;32m----> 1\u001b[0m \u001b[39mprint\u001b[39m(\u001b[39mabs\u001b[39m(get_statevector(qc)\u001b[39m.\u001b[39mdata\u001b[39m@np\u001b[39m\u001b[39m.\u001b[39marray(normalize(state_list[\u001b[39m1\u001b[39m]))))\n",
      "Cell \u001b[1;32mIn [10], line 3\u001b[0m, in \u001b[0;36mget_statevector\u001b[1;34m(circuit)\u001b[0m\n\u001b[0;32m      1\u001b[0m \u001b[39mdef\u001b[39;00m \u001b[39mget_statevector\u001b[39m(circuit):\n\u001b[0;32m      2\u001b[0m     backend \u001b[39m=\u001b[39m Aer\u001b[39m.\u001b[39mget_backend(\u001b[39m'\u001b[39m\u001b[39mstatevector_simulator\u001b[39m\u001b[39m'\u001b[39m)\n\u001b[1;32m----> 3\u001b[0m     result \u001b[39m=\u001b[39m execute(circuit, backend)\u001b[39m.\u001b[39mresult()\n\u001b[0;32m      4\u001b[0m     statevector \u001b[39m=\u001b[39m result\u001b[39m.\u001b[39mget_statevector(circuit)\n\u001b[0;32m      5\u001b[0m     \u001b[39mreturn\u001b[39;00m statevector\n",
      "File \u001b[1;32mc:\\Users\\cbk92\\anaconda3\\envs\\IBM\\lib\\site-packages\\qiskit\\execute_function.py:375\u001b[0m, in \u001b[0;36mexecute\u001b[1;34m(experiments, backend, basis_gates, coupling_map, backend_properties, initial_layout, seed_transpiler, optimization_level, pass_manager, qobj_id, qobj_header, shots, memory, max_credits, seed_simulator, default_qubit_los, default_meas_los, qubit_lo_range, meas_lo_range, schedule_los, meas_level, meas_return, memory_slots, memory_slot_size, rep_time, rep_delay, parameter_binds, schedule_circuit, inst_map, meas_map, scheduling_method, init_qubits, **run_config)\u001b[0m\n\u001b[0;32m    373\u001b[0m     run_kwargs[\u001b[39m\"\u001b[39m\u001b[39mparameter_binds\u001b[39m\u001b[39m\"\u001b[39m] \u001b[39m=\u001b[39m parameter_binds\n\u001b[0;32m    374\u001b[0m run_kwargs\u001b[39m.\u001b[39mupdate(run_config)\n\u001b[1;32m--> 375\u001b[0m job \u001b[39m=\u001b[39m backend\u001b[39m.\u001b[39mrun(experiments, \u001b[39m*\u001b[39m\u001b[39m*\u001b[39mrun_kwargs)\n\u001b[0;32m    376\u001b[0m end_time \u001b[39m=\u001b[39m time()\n\u001b[0;32m    377\u001b[0m _log_submission_time(start_time, end_time)\n",
      "File \u001b[1;32mc:\\Users\\cbk92\\anaconda3\\envs\\IBM\\lib\\site-packages\\qiskit\\utils\\deprecation.py:28\u001b[0m, in \u001b[0;36mdeprecate_arguments.<locals>.decorator.<locals>.wrapper\u001b[1;34m(*args, **kwargs)\u001b[0m\n\u001b[0;32m     26\u001b[0m \u001b[39mif\u001b[39;00m kwargs:\n\u001b[0;32m     27\u001b[0m     _rename_kwargs(func\u001b[39m.\u001b[39m\u001b[39m__name__\u001b[39m, kwargs, kwarg_map, category)\n\u001b[1;32m---> 28\u001b[0m \u001b[39mreturn\u001b[39;00m func(\u001b[39m*\u001b[39margs, \u001b[39m*\u001b[39m\u001b[39m*\u001b[39mkwargs)\n",
      "File \u001b[1;32mc:\\Users\\cbk92\\anaconda3\\envs\\IBM\\lib\\site-packages\\qiskit_aer\\backends\\aerbackend.py:187\u001b[0m, in \u001b[0;36mAerBackend.run\u001b[1;34m(self, circuits, validate, parameter_binds, **run_options)\u001b[0m\n\u001b[0;32m    185\u001b[0m     qobj \u001b[39m=\u001b[39m \u001b[39mself\u001b[39m\u001b[39m.\u001b[39m_assemble(circuits, \u001b[39m*\u001b[39m\u001b[39m*\u001b[39mrun_options)\n\u001b[0;32m    186\u001b[0m \u001b[39melse\u001b[39;00m:\n\u001b[1;32m--> 187\u001b[0m     qobj \u001b[39m=\u001b[39m \u001b[39mself\u001b[39m\u001b[39m.\u001b[39m_assemble(circuits, parameter_binds\u001b[39m=\u001b[39mparameter_binds, \u001b[39m*\u001b[39m\u001b[39m*\u001b[39mrun_options)\n\u001b[0;32m    189\u001b[0m \u001b[39m# Optional validation\u001b[39;00m\n\u001b[0;32m    190\u001b[0m \u001b[39mif\u001b[39;00m validate:\n",
      "File \u001b[1;32mc:\\Users\\cbk92\\anaconda3\\envs\\IBM\\lib\\site-packages\\qiskit_aer\\backends\\aerbackend.py:400\u001b[0m, in \u001b[0;36mAerBackend._assemble\u001b[1;34m(self, circuits, parameter_binds, **run_options)\u001b[0m\n\u001b[0;32m    398\u001b[0m             qobj \u001b[39m=\u001b[39m qobj_tmp\n\u001b[0;32m    399\u001b[0m \u001b[39melse\u001b[39;00m:\n\u001b[1;32m--> 400\u001b[0m     qobj \u001b[39m=\u001b[39m assemble(circuits, backend\u001b[39m=\u001b[39;49m\u001b[39mself\u001b[39;49m)\n\u001b[0;32m    402\u001b[0m \u001b[39m# Add optypes to qobj\u001b[39;00m\n\u001b[0;32m    403\u001b[0m \u001b[39m# We convert to strings to avoid pybinding of types\u001b[39;00m\n\u001b[0;32m    404\u001b[0m qobj\u001b[39m.\u001b[39mconfig\u001b[39m.\u001b[39moptypes \u001b[39m=\u001b[39m [\n\u001b[0;32m    405\u001b[0m     \u001b[39mset\u001b[39m(i\u001b[39m.\u001b[39m\u001b[39m__name__\u001b[39m \u001b[39mfor\u001b[39;00m i \u001b[39min\u001b[39;00m optype) \u001b[39mif\u001b[39;00m optype \u001b[39melse\u001b[39;00m \u001b[39mset\u001b[39m()\n\u001b[0;32m    406\u001b[0m     \u001b[39mfor\u001b[39;00m optype \u001b[39min\u001b[39;00m optypes]\n",
      "File \u001b[1;32mc:\\Users\\cbk92\\anaconda3\\envs\\IBM\\lib\\site-packages\\qiskit\\compiler\\assembler.py:203\u001b[0m, in \u001b[0;36massemble\u001b[1;34m(experiments, backend, qobj_id, qobj_header, shots, memory, max_credits, seed_simulator, qubit_lo_freq, meas_lo_freq, qubit_lo_range, meas_lo_range, schedule_los, meas_level, meas_return, meas_map, memory_slot_size, rep_time, rep_delay, parameter_binds, parametric_pulses, init_qubits, **run_config)\u001b[0m\n\u001b[0;32m    193\u001b[0m run_config \u001b[39m=\u001b[39m _parse_circuit_args(\n\u001b[0;32m    194\u001b[0m     parameter_binds,\n\u001b[0;32m    195\u001b[0m     backend,\n\u001b[1;32m   (...)\u001b[0m\n\u001b[0;32m    199\u001b[0m     \u001b[39m*\u001b[39m\u001b[39m*\u001b[39mrun_config_common_dict,\n\u001b[0;32m    200\u001b[0m )\n\u001b[0;32m    202\u001b[0m \u001b[39m# If circuits are parameterized, bind parameters and remove from run_config\u001b[39;00m\n\u001b[1;32m--> 203\u001b[0m bound_experiments, run_config \u001b[39m=\u001b[39m _expand_parameters(\n\u001b[0;32m    204\u001b[0m     circuits\u001b[39m=\u001b[39;49mexperiments, run_config\u001b[39m=\u001b[39;49mrun_config\n\u001b[0;32m    205\u001b[0m )\n\u001b[0;32m    206\u001b[0m end_time \u001b[39m=\u001b[39m time()\n\u001b[0;32m    207\u001b[0m _log_assembly_time(start_time, end_time)\n",
      "File \u001b[1;32mc:\\Users\\cbk92\\anaconda3\\envs\\IBM\\lib\\site-packages\\qiskit\\compiler\\assembler.py:596\u001b[0m, in \u001b[0;36m_expand_parameters\u001b[1;34m(circuits, run_config)\u001b[0m\n\u001b[0;32m    589\u001b[0m \u001b[39m# Check that all parameters are common to all circuits and binds\u001b[39;00m\n\u001b[0;32m    590\u001b[0m \u001b[39mif\u001b[39;00m (\n\u001b[0;32m    591\u001b[0m     \u001b[39mnot\u001b[39;00m all_bind_parameters\n\u001b[0;32m    592\u001b[0m     \u001b[39mor\u001b[39;00m \u001b[39mnot\u001b[39;00m all_circuit_parameters\n\u001b[0;32m    593\u001b[0m     \u001b[39mor\u001b[39;00m \u001b[39many\u001b[39m(unique_parameters \u001b[39m!=\u001b[39m bind_params \u001b[39mfor\u001b[39;00m bind_params \u001b[39min\u001b[39;00m all_bind_parameters)\n\u001b[0;32m    594\u001b[0m     \u001b[39mor\u001b[39;00m \u001b[39many\u001b[39m(unique_parameters \u001b[39m!=\u001b[39m parameters \u001b[39mfor\u001b[39;00m parameters \u001b[39min\u001b[39;00m all_circuit_parameters)\n\u001b[0;32m    595\u001b[0m ):\n\u001b[1;32m--> 596\u001b[0m     \u001b[39mraise\u001b[39;00m QiskitError(\n\u001b[0;32m    597\u001b[0m         (\n\u001b[0;32m    598\u001b[0m             \u001b[39m\"\u001b[39m\u001b[39mMismatch between run_config.parameter_binds and all circuit parameters. \u001b[39m\u001b[39m\"\u001b[39m\n\u001b[0;32m    599\u001b[0m             \u001b[39m+\u001b[39m \u001b[39m\"\u001b[39m\u001b[39mParameter binds: \u001b[39m\u001b[39m{}\u001b[39;00m\u001b[39m \u001b[39m\u001b[39m\"\u001b[39m\n\u001b[0;32m    600\u001b[0m             \u001b[39m+\u001b[39m \u001b[39m\"\u001b[39m\u001b[39mCircuit parameters: \u001b[39m\u001b[39m{}\u001b[39;00m\u001b[39m\"\u001b[39m\n\u001b[0;32m    601\u001b[0m         )\u001b[39m.\u001b[39mformat(all_bind_parameters, all_circuit_parameters)\n\u001b[0;32m    602\u001b[0m     )\n\u001b[0;32m    604\u001b[0m circuits \u001b[39m=\u001b[39m [\n\u001b[0;32m    605\u001b[0m     circuit\u001b[39m.\u001b[39mbind_parameters(binds) \u001b[39mfor\u001b[39;00m circuit \u001b[39min\u001b[39;00m circuits \u001b[39mfor\u001b[39;00m binds \u001b[39min\u001b[39;00m parameter_binds\n\u001b[0;32m    606\u001b[0m ]\n\u001b[0;32m    608\u001b[0m \u001b[39m# All parameters have been expanded and bound, so remove from run_config\u001b[39;00m\n",
      "\u001b[1;31mQiskitError\u001b[0m: 'Mismatch between run_config.parameter_binds and all circuit parameters. Parameter binds: [] Circuit parameters: [ParameterView([ParameterVectorElement(θ[0]), ParameterVectorElement(θ[1]), ParameterVectorElement(θ[2]), ParameterVectorElement(θ[3]), ParameterVectorElement(θ[4]), ParameterVectorElement(θ[5]), ParameterVectorElement(θ[6]), ParameterVectorElement(θ[7])])]'"
     ]
    }
   ],
   "source": [
    "print(abs(get_statevector(qc).data@np.array(normalize(state_list[1]))))"
   ]
  },
  {
   "cell_type": "code",
   "execution_count": 30,
   "metadata": {},
   "outputs": [
    {
     "data": {
      "text/html": [
       "<pre style=\"word-wrap: normal;white-space: pre;background: #fff0;line-height: 1.1;font-family: &quot;Courier New&quot;,Courier,monospace\">     ┌────────────────────────────────────────────────┐\n",
       "q_0: ┤0                                               ├\n",
       "     │  EfficientSU2(0.0,0.0,0.0,0.0,0.0,0.0,0.0,0.0) │\n",
       "q_1: ┤1                                               ├\n",
       "     └────────────────────────────────────────────────┘</pre>"
      ],
      "text/plain": [
       "     ┌────────────────────────────────────────────────┐\n",
       "q_0: ┤0                                               ├\n",
       "     │  EfficientSU2(0.0,0.0,0.0,0.0,0.0,0.0,0.0,0.0) │\n",
       "q_1: ┤1                                               ├\n",
       "     └────────────────────────────────────────────────┘"
      ]
     },
     "execution_count": 30,
     "metadata": {},
     "output_type": "execute_result"
    }
   ],
   "source": [
    "qc=QuantumCircuit(2)\n",
    "qc.append(EfficientSU2(2,reps=1),range(0,2))\n",
    "index=0\n",
    "##x0=[np.pi]*16 \n",
    "for i in qc.parameters:\n",
    "    qc=qc.bind_parameters({i:x0[index]})\n",
    "    index=index+1\n",
    "qc.draw()"
   ]
  },
  {
   "cell_type": "code",
   "execution_count": 31,
   "metadata": {},
   "outputs": [
    {
     "name": "stdout",
     "output_type": "stream",
     "text": [
      "[0. 0. 0. 0. 0. 0. 0. 0. 0. 0. 0. 0. 0. 0. 0. 0. 0. 0. 0. 0. 0. 0. 0. 0.\n",
      " 0. 0. 0. 0.]\n"
     ]
    }
   ],
   "source": [
    "print(x0)"
   ]
  },
  {
   "cell_type": "code",
   "execution_count": 32,
   "metadata": {},
   "outputs": [
    {
     "name": "stdout",
     "output_type": "stream",
     "text": [
      "0.5773502691896258\n"
     ]
    }
   ],
   "source": [
    "get_statevector(qc)\n",
    "print(abs(get_statevector(qc).data@np.array(normalize([1, 1 , 0, 1]))))"
   ]
  },
  {
   "cell_type": "code",
   "execution_count": 33,
   "metadata": {},
   "outputs": [
    {
     "data": {
      "text/plain": [
       "array([1., 0., 0., 0.])"
      ]
     },
     "execution_count": 33,
     "metadata": {},
     "output_type": "execute_result"
    }
   ],
   "source": [
    "abs((get_statevector(qc).data))"
   ]
  },
  {
   "cell_type": "code",
   "execution_count": 34,
   "metadata": {},
   "outputs": [
    {
     "data": {
      "text/plain": [
       "0.5773502691896258"
      ]
     },
     "execution_count": 34,
     "metadata": {},
     "output_type": "execute_result"
    }
   ],
   "source": [
    "abs(normalize([1,0,1,1])@(get_statevector(qc).data))"
   ]
  },
  {
   "cell_type": "code",
   "execution_count": 35,
   "metadata": {},
   "outputs": [
    {
     "name": "stdout",
     "output_type": "stream",
     "text": [
      "반복횟수: 1\n",
      "반복횟수: 2\n",
      "반복횟수: 3\n",
      "반복횟수: 4\n",
      "반복횟수: 5\n",
      "반복횟수: 6\n",
      "반복횟수: 7\n"
     ]
    },
    {
     "ename": "KeyboardInterrupt",
     "evalue": "",
     "output_type": "error",
     "traceback": [
      "\u001b[1;31m---------------------------------------------------------------------------\u001b[0m",
      "\u001b[1;31mKeyboardInterrupt\u001b[0m                         Traceback (most recent call last)",
      "Cell \u001b[1;32mIn [35], line 1\u001b[0m\n\u001b[1;32m----> 1\u001b[0m qc,x,y\u001b[39m=\u001b[39minitiallize(state)\n\u001b[0;32m      2\u001b[0m itter\u001b[39m=\u001b[39m[]\n\u001b[0;32m      3\u001b[0m index\u001b[39m=\u001b[39m\u001b[39m0\u001b[39m\n",
      "Cell \u001b[1;32mIn [7], line 86\u001b[0m, in \u001b[0;36minitiallize\u001b[1;34m(state)\u001b[0m\n\u001b[0;32m     84\u001b[0m     result\u001b[39m=\u001b[39m(normalize(state))\u001b[39m.\u001b[39mconjugate()\u001b[39m@get_statevector\u001b[39m(qc)\u001b[39m.\u001b[39mdata\n\u001b[0;32m     85\u001b[0m     \u001b[39mreturn\u001b[39;00m \u001b[39m-\u001b[39mresult\u001b[39m.\u001b[39mreal\n\u001b[1;32m---> 86\u001b[0m res_x,res_y\u001b[39m=\u001b[39moptimize(My_function1,para_num,call_back)\n\u001b[0;32m     87\u001b[0m index\u001b[39m=\u001b[39m\u001b[39m0\u001b[39m\n\u001b[0;32m     88\u001b[0m \u001b[39mfor\u001b[39;00m i \u001b[39min\u001b[39;00m qc\u001b[39m.\u001b[39mparameters:\n",
      "Cell \u001b[1;32mIn [7], line 107\u001b[0m, in \u001b[0;36moptimize\u001b[1;34m(f, parameter_num, callfunc)\u001b[0m\n\u001b[0;32m    103\u001b[0m x0\u001b[39m=\u001b[39mx0\u001b[39m+\u001b[39m(\u001b[39mlist\u001b[39m(np\u001b[39m.\u001b[39mrandom\u001b[39m.\u001b[39mrandn(\u001b[39mint\u001b[39m(parameter_num\u001b[39m/\u001b[39m\u001b[39m4\u001b[39m))\u001b[39m*\u001b[39mnp\u001b[39m.\u001b[39mpi)\u001b[39m+\u001b[39m[\u001b[39m0\u001b[39m]\u001b[39m*\u001b[39m\u001b[39mint\u001b[39m(parameter_num\u001b[39m*\u001b[39m\u001b[39m3\u001b[39m\u001b[39m/\u001b[39m\u001b[39m4\u001b[39m))\n\u001b[0;32m    104\u001b[0m \u001b[39m\"\"\" while(f(x0).real>-0.5):\u001b[39;00m\n\u001b[0;32m    105\u001b[0m \u001b[39m    x0=np.array([0]*parameter_num)+(list(np.random.randn(int(parameter_num/4))*np.pi)+[0]*int(parameter_num*3/4))\u001b[39;00m\n\u001b[0;32m    106\u001b[0m \u001b[39m    print(f(x0))\"\"\"\u001b[39;00m\n\u001b[1;32m--> 107\u001b[0m res \u001b[39m=\u001b[39m minimize(f, x0, callback\u001b[39m=\u001b[39;49mcallfunc,tol\u001b[39m=\u001b[39;49m\u001b[39m1e-4\u001b[39;49m,options\u001b[39m=\u001b[39;49m{\u001b[39m\"\u001b[39;49m\u001b[39mmaxiter\u001b[39;49m\u001b[39m\"\u001b[39;49m:\u001b[39m8\u001b[39;49m})\n\u001b[0;32m    108\u001b[0m \u001b[39mreturn\u001b[39;00m res\u001b[39m.\u001b[39mx,res\u001b[39m.\u001b[39mfun\n",
      "File \u001b[1;32mc:\\Users\\cbk92\\anaconda3\\envs\\IBM\\lib\\site-packages\\scipy\\optimize\\_minimize.py:694\u001b[0m, in \u001b[0;36mminimize\u001b[1;34m(fun, x0, args, method, jac, hess, hessp, bounds, constraints, tol, callback, options)\u001b[0m\n\u001b[0;32m    692\u001b[0m     res \u001b[39m=\u001b[39m _minimize_cg(fun, x0, args, jac, callback, \u001b[39m*\u001b[39m\u001b[39m*\u001b[39moptions)\n\u001b[0;32m    693\u001b[0m \u001b[39melif\u001b[39;00m meth \u001b[39m==\u001b[39m \u001b[39m'\u001b[39m\u001b[39mbfgs\u001b[39m\u001b[39m'\u001b[39m:\n\u001b[1;32m--> 694\u001b[0m     res \u001b[39m=\u001b[39m _minimize_bfgs(fun, x0, args, jac, callback, \u001b[39m*\u001b[39m\u001b[39m*\u001b[39moptions)\n\u001b[0;32m    695\u001b[0m \u001b[39melif\u001b[39;00m meth \u001b[39m==\u001b[39m \u001b[39m'\u001b[39m\u001b[39mnewton-cg\u001b[39m\u001b[39m'\u001b[39m:\n\u001b[0;32m    696\u001b[0m     res \u001b[39m=\u001b[39m _minimize_newtoncg(fun, x0, args, jac, hess, hessp, callback,\n\u001b[0;32m    697\u001b[0m                              \u001b[39m*\u001b[39m\u001b[39m*\u001b[39moptions)\n",
      "File \u001b[1;32mc:\\Users\\cbk92\\anaconda3\\envs\\IBM\\lib\\site-packages\\scipy\\optimize\\_optimize.py:1309\u001b[0m, in \u001b[0;36m_minimize_bfgs\u001b[1;34m(fun, x0, args, jac, callback, gtol, norm, eps, maxiter, disp, return_all, finite_diff_rel_step, **unknown_options)\u001b[0m\n\u001b[0;32m   1306\u001b[0m pk \u001b[39m=\u001b[39m \u001b[39m-\u001b[39mnp\u001b[39m.\u001b[39mdot(Hk, gfk)\n\u001b[0;32m   1307\u001b[0m \u001b[39mtry\u001b[39;00m:\n\u001b[0;32m   1308\u001b[0m     alpha_k, fc, gc, old_fval, old_old_fval, gfkp1 \u001b[39m=\u001b[39m \\\n\u001b[1;32m-> 1309\u001b[0m              _line_search_wolfe12(f, myfprime, xk, pk, gfk,\n\u001b[0;32m   1310\u001b[0m                                   old_fval, old_old_fval, amin\u001b[39m=\u001b[39;49m\u001b[39m1e-100\u001b[39;49m, amax\u001b[39m=\u001b[39;49m\u001b[39m1e100\u001b[39;49m)\n\u001b[0;32m   1311\u001b[0m \u001b[39mexcept\u001b[39;00m _LineSearchError:\n\u001b[0;32m   1312\u001b[0m     \u001b[39m# Line search failed to find a better solution.\u001b[39;00m\n\u001b[0;32m   1313\u001b[0m     warnflag \u001b[39m=\u001b[39m \u001b[39m2\u001b[39m\n",
      "File \u001b[1;32mc:\\Users\\cbk92\\anaconda3\\envs\\IBM\\lib\\site-packages\\scipy\\optimize\\_optimize.py:1087\u001b[0m, in \u001b[0;36m_line_search_wolfe12\u001b[1;34m(f, fprime, xk, pk, gfk, old_fval, old_old_fval, **kwargs)\u001b[0m\n\u001b[0;32m   1073\u001b[0m \u001b[39m\"\"\"\u001b[39;00m\n\u001b[0;32m   1074\u001b[0m \u001b[39mSame as line_search_wolfe1, but fall back to line_search_wolfe2 if\u001b[39;00m\n\u001b[0;32m   1075\u001b[0m \u001b[39msuitable step length is not found, and raise an exception if a\u001b[39;00m\n\u001b[1;32m   (...)\u001b[0m\n\u001b[0;32m   1082\u001b[0m \n\u001b[0;32m   1083\u001b[0m \u001b[39m\"\"\"\u001b[39;00m\n\u001b[0;32m   1085\u001b[0m extra_condition \u001b[39m=\u001b[39m kwargs\u001b[39m.\u001b[39mpop(\u001b[39m'\u001b[39m\u001b[39mextra_condition\u001b[39m\u001b[39m'\u001b[39m, \u001b[39mNone\u001b[39;00m)\n\u001b[1;32m-> 1087\u001b[0m ret \u001b[39m=\u001b[39m line_search_wolfe1(f, fprime, xk, pk, gfk,\n\u001b[0;32m   1088\u001b[0m                          old_fval, old_old_fval,\n\u001b[0;32m   1089\u001b[0m                          \u001b[39m*\u001b[39m\u001b[39m*\u001b[39mkwargs)\n\u001b[0;32m   1091\u001b[0m \u001b[39mif\u001b[39;00m ret[\u001b[39m0\u001b[39m] \u001b[39mis\u001b[39;00m \u001b[39mnot\u001b[39;00m \u001b[39mNone\u001b[39;00m \u001b[39mand\u001b[39;00m extra_condition \u001b[39mis\u001b[39;00m \u001b[39mnot\u001b[39;00m \u001b[39mNone\u001b[39;00m:\n\u001b[0;32m   1092\u001b[0m     xp1 \u001b[39m=\u001b[39m xk \u001b[39m+\u001b[39m ret[\u001b[39m0\u001b[39m] \u001b[39m*\u001b[39m pk\n",
      "File \u001b[1;32mc:\\Users\\cbk92\\anaconda3\\envs\\IBM\\lib\\site-packages\\scipy\\optimize\\_linesearch.py:84\u001b[0m, in \u001b[0;36mline_search_wolfe1\u001b[1;34m(f, fprime, xk, pk, gfk, old_fval, old_old_fval, args, c1, c2, amax, amin, xtol)\u001b[0m\n\u001b[0;32m     80\u001b[0m     \u001b[39mreturn\u001b[39;00m np\u001b[39m.\u001b[39mdot(gval[\u001b[39m0\u001b[39m], pk)\n\u001b[0;32m     82\u001b[0m derphi0 \u001b[39m=\u001b[39m np\u001b[39m.\u001b[39mdot(gfk, pk)\n\u001b[1;32m---> 84\u001b[0m stp, fval, old_fval \u001b[39m=\u001b[39m scalar_search_wolfe1(\n\u001b[0;32m     85\u001b[0m         phi, derphi, old_fval, old_old_fval, derphi0,\n\u001b[0;32m     86\u001b[0m         c1\u001b[39m=\u001b[39;49mc1, c2\u001b[39m=\u001b[39;49mc2, amax\u001b[39m=\u001b[39;49mamax, amin\u001b[39m=\u001b[39;49mamin, xtol\u001b[39m=\u001b[39;49mxtol)\n\u001b[0;32m     88\u001b[0m \u001b[39mreturn\u001b[39;00m stp, fc[\u001b[39m0\u001b[39m], gc[\u001b[39m0\u001b[39m], fval, old_fval, gval[\u001b[39m0\u001b[39m]\n",
      "File \u001b[1;32mc:\\Users\\cbk92\\anaconda3\\envs\\IBM\\lib\\site-packages\\scipy\\optimize\\_linesearch.py:161\u001b[0m, in \u001b[0;36mscalar_search_wolfe1\u001b[1;34m(phi, derphi, phi0, old_phi0, derphi0, c1, c2, amax, amin, xtol)\u001b[0m\n\u001b[0;32m    159\u001b[0m     alpha1 \u001b[39m=\u001b[39m stp\n\u001b[0;32m    160\u001b[0m     phi1 \u001b[39m=\u001b[39m phi(stp)\n\u001b[1;32m--> 161\u001b[0m     derphi1 \u001b[39m=\u001b[39m derphi(stp)\n\u001b[0;32m    162\u001b[0m \u001b[39melse\u001b[39;00m:\n\u001b[0;32m    163\u001b[0m     \u001b[39mbreak\u001b[39;00m\n",
      "File \u001b[1;32mc:\\Users\\cbk92\\anaconda3\\envs\\IBM\\lib\\site-packages\\scipy\\optimize\\_linesearch.py:78\u001b[0m, in \u001b[0;36mline_search_wolfe1.<locals>.derphi\u001b[1;34m(s)\u001b[0m\n\u001b[0;32m     77\u001b[0m \u001b[39mdef\u001b[39;00m \u001b[39mderphi\u001b[39m(s):\n\u001b[1;32m---> 78\u001b[0m     gval[\u001b[39m0\u001b[39m] \u001b[39m=\u001b[39m fprime(xk \u001b[39m+\u001b[39;49m s\u001b[39m*\u001b[39;49mpk, \u001b[39m*\u001b[39;49margs)\n\u001b[0;32m     79\u001b[0m     gc[\u001b[39m0\u001b[39m] \u001b[39m+\u001b[39m\u001b[39m=\u001b[39m \u001b[39m1\u001b[39m\n\u001b[0;32m     80\u001b[0m     \u001b[39mreturn\u001b[39;00m np\u001b[39m.\u001b[39mdot(gval[\u001b[39m0\u001b[39m], pk)\n",
      "File \u001b[1;32mc:\\Users\\cbk92\\anaconda3\\envs\\IBM\\lib\\site-packages\\scipy\\optimize\\_differentiable_functions.py:273\u001b[0m, in \u001b[0;36mScalarFunction.grad\u001b[1;34m(self, x)\u001b[0m\n\u001b[0;32m    271\u001b[0m \u001b[39mif\u001b[39;00m \u001b[39mnot\u001b[39;00m np\u001b[39m.\u001b[39marray_equal(x, \u001b[39mself\u001b[39m\u001b[39m.\u001b[39mx):\n\u001b[0;32m    272\u001b[0m     \u001b[39mself\u001b[39m\u001b[39m.\u001b[39m_update_x_impl(x)\n\u001b[1;32m--> 273\u001b[0m \u001b[39mself\u001b[39;49m\u001b[39m.\u001b[39;49m_update_grad()\n\u001b[0;32m    274\u001b[0m \u001b[39mreturn\u001b[39;00m \u001b[39mself\u001b[39m\u001b[39m.\u001b[39mg\n",
      "File \u001b[1;32mc:\\Users\\cbk92\\anaconda3\\envs\\IBM\\lib\\site-packages\\scipy\\optimize\\_differentiable_functions.py:256\u001b[0m, in \u001b[0;36mScalarFunction._update_grad\u001b[1;34m(self)\u001b[0m\n\u001b[0;32m    254\u001b[0m \u001b[39mdef\u001b[39;00m \u001b[39m_update_grad\u001b[39m(\u001b[39mself\u001b[39m):\n\u001b[0;32m    255\u001b[0m     \u001b[39mif\u001b[39;00m \u001b[39mnot\u001b[39;00m \u001b[39mself\u001b[39m\u001b[39m.\u001b[39mg_updated:\n\u001b[1;32m--> 256\u001b[0m         \u001b[39mself\u001b[39;49m\u001b[39m.\u001b[39;49m_update_grad_impl()\n\u001b[0;32m    257\u001b[0m         \u001b[39mself\u001b[39m\u001b[39m.\u001b[39mg_updated \u001b[39m=\u001b[39m \u001b[39mTrue\u001b[39;00m\n",
      "File \u001b[1;32mc:\\Users\\cbk92\\anaconda3\\envs\\IBM\\lib\\site-packages\\scipy\\optimize\\_differentiable_functions.py:173\u001b[0m, in \u001b[0;36mScalarFunction.__init__.<locals>.update_grad\u001b[1;34m()\u001b[0m\n\u001b[0;32m    171\u001b[0m \u001b[39mself\u001b[39m\u001b[39m.\u001b[39m_update_fun()\n\u001b[0;32m    172\u001b[0m \u001b[39mself\u001b[39m\u001b[39m.\u001b[39mngev \u001b[39m+\u001b[39m\u001b[39m=\u001b[39m \u001b[39m1\u001b[39m\n\u001b[1;32m--> 173\u001b[0m \u001b[39mself\u001b[39m\u001b[39m.\u001b[39mg \u001b[39m=\u001b[39m approx_derivative(fun_wrapped, \u001b[39mself\u001b[39m\u001b[39m.\u001b[39mx, f0\u001b[39m=\u001b[39m\u001b[39mself\u001b[39m\u001b[39m.\u001b[39mf,\n\u001b[0;32m    174\u001b[0m                            \u001b[39m*\u001b[39m\u001b[39m*\u001b[39mfinite_diff_options)\n",
      "File \u001b[1;32mc:\\Users\\cbk92\\anaconda3\\envs\\IBM\\lib\\site-packages\\scipy\\optimize\\_numdiff.py:505\u001b[0m, in \u001b[0;36mapprox_derivative\u001b[1;34m(fun, x0, method, rel_step, abs_step, f0, bounds, sparsity, as_linear_operator, args, kwargs)\u001b[0m\n\u001b[0;32m    502\u001b[0m     use_one_sided \u001b[39m=\u001b[39m \u001b[39mFalse\u001b[39;00m\n\u001b[0;32m    504\u001b[0m \u001b[39mif\u001b[39;00m sparsity \u001b[39mis\u001b[39;00m \u001b[39mNone\u001b[39;00m:\n\u001b[1;32m--> 505\u001b[0m     \u001b[39mreturn\u001b[39;00m _dense_difference(fun_wrapped, x0, f0, h,\n\u001b[0;32m    506\u001b[0m                              use_one_sided, method)\n\u001b[0;32m    507\u001b[0m \u001b[39melse\u001b[39;00m:\n\u001b[0;32m    508\u001b[0m     \u001b[39mif\u001b[39;00m \u001b[39mnot\u001b[39;00m issparse(sparsity) \u001b[39mand\u001b[39;00m \u001b[39mlen\u001b[39m(sparsity) \u001b[39m==\u001b[39m \u001b[39m2\u001b[39m:\n",
      "File \u001b[1;32mc:\\Users\\cbk92\\anaconda3\\envs\\IBM\\lib\\site-packages\\scipy\\optimize\\_numdiff.py:576\u001b[0m, in \u001b[0;36m_dense_difference\u001b[1;34m(fun, x0, f0, h, use_one_sided, method)\u001b[0m\n\u001b[0;32m    574\u001b[0m     x \u001b[39m=\u001b[39m x0 \u001b[39m+\u001b[39m h_vecs[i]\n\u001b[0;32m    575\u001b[0m     dx \u001b[39m=\u001b[39m x[i] \u001b[39m-\u001b[39m x0[i]  \u001b[39m# Recompute dx as exactly representable number.\u001b[39;00m\n\u001b[1;32m--> 576\u001b[0m     df \u001b[39m=\u001b[39m fun(x) \u001b[39m-\u001b[39m f0\n\u001b[0;32m    577\u001b[0m \u001b[39melif\u001b[39;00m method \u001b[39m==\u001b[39m \u001b[39m'\u001b[39m\u001b[39m3-point\u001b[39m\u001b[39m'\u001b[39m \u001b[39mand\u001b[39;00m use_one_sided[i]:\n\u001b[0;32m    578\u001b[0m     x1 \u001b[39m=\u001b[39m x0 \u001b[39m+\u001b[39m h_vecs[i]\n",
      "File \u001b[1;32mc:\\Users\\cbk92\\anaconda3\\envs\\IBM\\lib\\site-packages\\scipy\\optimize\\_numdiff.py:456\u001b[0m, in \u001b[0;36mapprox_derivative.<locals>.fun_wrapped\u001b[1;34m(x)\u001b[0m\n\u001b[0;32m    455\u001b[0m \u001b[39mdef\u001b[39;00m \u001b[39mfun_wrapped\u001b[39m(x):\n\u001b[1;32m--> 456\u001b[0m     f \u001b[39m=\u001b[39m np\u001b[39m.\u001b[39matleast_1d(fun(x, \u001b[39m*\u001b[39margs, \u001b[39m*\u001b[39m\u001b[39m*\u001b[39mkwargs))\n\u001b[0;32m    457\u001b[0m     \u001b[39mif\u001b[39;00m f\u001b[39m.\u001b[39mndim \u001b[39m>\u001b[39m \u001b[39m1\u001b[39m:\n\u001b[0;32m    458\u001b[0m         \u001b[39mraise\u001b[39;00m \u001b[39mRuntimeError\u001b[39;00m(\u001b[39m\"\u001b[39m\u001b[39m`fun` return value has \u001b[39m\u001b[39m\"\u001b[39m\n\u001b[0;32m    459\u001b[0m                            \u001b[39m\"\u001b[39m\u001b[39mmore than 1 dimension.\u001b[39m\u001b[39m\"\u001b[39m)\n",
      "File \u001b[1;32mc:\\Users\\cbk92\\anaconda3\\envs\\IBM\\lib\\site-packages\\scipy\\optimize\\_differentiable_functions.py:137\u001b[0m, in \u001b[0;36mScalarFunction.__init__.<locals>.fun_wrapped\u001b[1;34m(x)\u001b[0m\n\u001b[0;32m    133\u001b[0m \u001b[39mself\u001b[39m\u001b[39m.\u001b[39mnfev \u001b[39m+\u001b[39m\u001b[39m=\u001b[39m \u001b[39m1\u001b[39m\n\u001b[0;32m    134\u001b[0m \u001b[39m# Send a copy because the user may overwrite it.\u001b[39;00m\n\u001b[0;32m    135\u001b[0m \u001b[39m# Overwriting results in undefined behaviour because\u001b[39;00m\n\u001b[0;32m    136\u001b[0m \u001b[39m# fun(self.x) will change self.x, with the two no longer linked.\u001b[39;00m\n\u001b[1;32m--> 137\u001b[0m fx \u001b[39m=\u001b[39m fun(np\u001b[39m.\u001b[39;49mcopy(x), \u001b[39m*\u001b[39;49margs)\n\u001b[0;32m    138\u001b[0m \u001b[39m# Make sure the function returns a true scalar\u001b[39;00m\n\u001b[0;32m    139\u001b[0m \u001b[39mif\u001b[39;00m \u001b[39mnot\u001b[39;00m np\u001b[39m.\u001b[39misscalar(fx):\n",
      "Cell \u001b[1;32mIn [7], line 84\u001b[0m, in \u001b[0;36minitiallize.<locals>.My_function1\u001b[1;34m(x)\u001b[0m\n\u001b[0;32m     82\u001b[0m     qc\u001b[39m=\u001b[39mqc\u001b[39m.\u001b[39mbind_parameters({i:x[index]})\n\u001b[0;32m     83\u001b[0m     index\u001b[39m+\u001b[39m\u001b[39m=\u001b[39m\u001b[39m1\u001b[39m\n\u001b[1;32m---> 84\u001b[0m result\u001b[39m=\u001b[39m(normalize(state))\u001b[39m.\u001b[39mconjugate()\u001b[39m@get_statevector\u001b[39m(qc)\u001b[39m.\u001b[39mdata\n\u001b[0;32m     85\u001b[0m \u001b[39mreturn\u001b[39;00m \u001b[39m-\u001b[39mresult\u001b[39m.\u001b[39mreal\n",
      "Cell \u001b[1;32mIn [10], line 3\u001b[0m, in \u001b[0;36mget_statevector\u001b[1;34m(circuit)\u001b[0m\n\u001b[0;32m      1\u001b[0m \u001b[39mdef\u001b[39;00m \u001b[39mget_statevector\u001b[39m(circuit):\n\u001b[0;32m      2\u001b[0m     backend \u001b[39m=\u001b[39m Aer\u001b[39m.\u001b[39mget_backend(\u001b[39m'\u001b[39m\u001b[39mstatevector_simulator\u001b[39m\u001b[39m'\u001b[39m)\n\u001b[1;32m----> 3\u001b[0m     result \u001b[39m=\u001b[39m execute(circuit, backend)\u001b[39m.\u001b[39;49mresult()\n\u001b[0;32m      4\u001b[0m     statevector \u001b[39m=\u001b[39m result\u001b[39m.\u001b[39mget_statevector(circuit)\n\u001b[0;32m      5\u001b[0m     \u001b[39mreturn\u001b[39;00m statevector\n",
      "File \u001b[1;32mc:\\Users\\cbk92\\anaconda3\\envs\\IBM\\lib\\site-packages\\qiskit_aer\\jobs\\utils.py:41\u001b[0m, in \u001b[0;36mrequires_submit.<locals>._wrapper\u001b[1;34m(self, *args, **kwargs)\u001b[0m\n\u001b[0;32m     39\u001b[0m \u001b[39mif\u001b[39;00m \u001b[39mself\u001b[39m\u001b[39m.\u001b[39m_future \u001b[39mis\u001b[39;00m \u001b[39mNone\u001b[39;00m:\n\u001b[0;32m     40\u001b[0m     \u001b[39mraise\u001b[39;00m JobError(\u001b[39m\"\u001b[39m\u001b[39mJob not submitted yet!. You have to .submit() first!\u001b[39m\u001b[39m\"\u001b[39m)\n\u001b[1;32m---> 41\u001b[0m \u001b[39mreturn\u001b[39;00m func(\u001b[39mself\u001b[39m, \u001b[39m*\u001b[39margs, \u001b[39m*\u001b[39m\u001b[39m*\u001b[39mkwargs)\n",
      "File \u001b[1;32mc:\\Users\\cbk92\\anaconda3\\envs\\IBM\\lib\\site-packages\\qiskit_aer\\jobs\\aerjob.py:78\u001b[0m, in \u001b[0;36mAerJob.result\u001b[1;34m(self, timeout)\u001b[0m\n\u001b[0;32m     60\u001b[0m \u001b[39m@requires_submit\u001b[39m\n\u001b[0;32m     61\u001b[0m \u001b[39mdef\u001b[39;00m \u001b[39mresult\u001b[39m(\u001b[39mself\u001b[39m, timeout\u001b[39m=\u001b[39m\u001b[39mNone\u001b[39;00m):\n\u001b[0;32m     62\u001b[0m     \u001b[39m# pylint: disable=arguments-differ\u001b[39;00m\n\u001b[0;32m     63\u001b[0m     \u001b[39m\"\"\"Get job result. The behavior is the same as the underlying\u001b[39;00m\n\u001b[0;32m     64\u001b[0m \u001b[39m    concurrent Future objects,\u001b[39;00m\n\u001b[0;32m     65\u001b[0m \n\u001b[1;32m   (...)\u001b[0m\n\u001b[0;32m     76\u001b[0m \u001b[39m        concurrent.futures.CancelledError: if job cancelled before completed.\u001b[39;00m\n\u001b[0;32m     77\u001b[0m \u001b[39m    \"\"\"\u001b[39;00m\n\u001b[1;32m---> 78\u001b[0m     \u001b[39mreturn\u001b[39;00m \u001b[39mself\u001b[39;49m\u001b[39m.\u001b[39;49m_future\u001b[39m.\u001b[39;49mresult(timeout\u001b[39m=\u001b[39;49mtimeout)\n",
      "File \u001b[1;32mc:\\Users\\cbk92\\anaconda3\\envs\\IBM\\lib\\concurrent\\futures\\_base.py:441\u001b[0m, in \u001b[0;36mFuture.result\u001b[1;34m(self, timeout)\u001b[0m\n\u001b[0;32m    438\u001b[0m \u001b[39melif\u001b[39;00m \u001b[39mself\u001b[39m\u001b[39m.\u001b[39m_state \u001b[39m==\u001b[39m FINISHED:\n\u001b[0;32m    439\u001b[0m     \u001b[39mreturn\u001b[39;00m \u001b[39mself\u001b[39m\u001b[39m.\u001b[39m__get_result()\n\u001b[1;32m--> 441\u001b[0m \u001b[39mself\u001b[39;49m\u001b[39m.\u001b[39;49m_condition\u001b[39m.\u001b[39;49mwait(timeout)\n\u001b[0;32m    443\u001b[0m \u001b[39mif\u001b[39;00m \u001b[39mself\u001b[39m\u001b[39m.\u001b[39m_state \u001b[39min\u001b[39;00m [CANCELLED, CANCELLED_AND_NOTIFIED]:\n\u001b[0;32m    444\u001b[0m     \u001b[39mraise\u001b[39;00m CancelledError()\n",
      "File \u001b[1;32mc:\\Users\\cbk92\\anaconda3\\envs\\IBM\\lib\\threading.py:312\u001b[0m, in \u001b[0;36mCondition.wait\u001b[1;34m(self, timeout)\u001b[0m\n\u001b[0;32m    310\u001b[0m \u001b[39mtry\u001b[39;00m:    \u001b[39m# restore state no matter what (e.g., KeyboardInterrupt)\u001b[39;00m\n\u001b[0;32m    311\u001b[0m     \u001b[39mif\u001b[39;00m timeout \u001b[39mis\u001b[39;00m \u001b[39mNone\u001b[39;00m:\n\u001b[1;32m--> 312\u001b[0m         waiter\u001b[39m.\u001b[39;49macquire()\n\u001b[0;32m    313\u001b[0m         gotit \u001b[39m=\u001b[39m \u001b[39mTrue\u001b[39;00m\n\u001b[0;32m    314\u001b[0m     \u001b[39melse\u001b[39;00m:\n",
      "\u001b[1;31mKeyboardInterrupt\u001b[0m: "
     ]
    }
   ],
   "source": [
    "qc,x,y=initiallize(state)\n",
    "itter=[]\n",
    "index=0\n",
    "for i in y:\n",
    "    itter.append(index)\n",
    "    index+=1\n",
    "y=np.array(y)\n",
    "plt.plot(itter,-y)\n",
    "plt.xlabel(\"itter\")\n",
    "plt.ylabel(\"fidelity\")"
   ]
  },
  {
   "cell_type": "code",
   "execution_count": null,
   "metadata": {},
   "outputs": [],
   "source": [
    "def fuction1(para):\n",
    "    return fuction([0,0,1,1],para,Clif_list,qc_list)"
   ]
  },
  {
   "cell_type": "code",
   "execution_count": null,
   "metadata": {},
   "outputs": [],
   "source": [
    "\n",
    "x = tf.Variable(0.0)\n",
    "print(float(x))"
   ]
  },
  {
   "cell_type": "code",
   "execution_count": null,
   "metadata": {},
   "outputs": [],
   "source": [
    "def get_value(state):\n",
    "    state=normalize(state)\n",
    "    Dim=int(math.ceil(math.log2(len(state))))\n",
    "    index=0\n",
    "    number=My_binary(index,Dim)\n",
    "    l=0\n",
    "    for j in number:\n",
    "        if l==0:\n",
    "            if j=='0':\n",
    "                op=I+Z\n",
    "            else:\n",
    "                op=I-Z\n",
    "        else:\n",
    "            if j=='0':\n",
    "                temp=I+Z\n",
    "            else:\n",
    "                temp=I-Z\n",
    "            op=op^temp\n",
    "        l+=1\n",
    "    C=op*-state[0]\n",
    "    for i in state:\n",
    "        if index==0:\n",
    "            index+=1\n",
    "        else:\n",
    "            number=My_binary(index,Dim)\n",
    "            k=0\n",
    "            for j in number:\n",
    "                if k==0:\n",
    "                    if j=='0':\n",
    "                        op=I+Z\n",
    "                    else:\n",
    "                        op=I-Z\n",
    "                else:\n",
    "                    if j=='0':\n",
    "                        temp=I+Z\n",
    "                    else:\n",
    "                        temp=I-Z\n",
    "                    op=op^temp\n",
    "                k+=1\n",
    "            C=C+op*(-i)\n",
    "            index+=1\n",
    "    return C\n"
   ]
  },
  {
   "cell_type": "code",
   "execution_count": null,
   "metadata": {},
   "outputs": [],
   "source": [
    "qc_list=[]\n",
    "Clif_list=[0]*1000\n",
    "for i in range(1000):\n",
    "    qc=QuantumCircuit(Dim,Dim)\n",
    "    qc.append(EfficientSU2(Dim,reps=1),range(0,Dim))\n",
    "    A=random_clifford(Dim)\n",
    "    A=Operator(A)\n",
    "    qc_iso=QuantumCircuit(Dim)\n",
    "    qc_iso.cx(0,1)\n",
    "    qc_iso.append(A,range(0,Dim))\n",
    "    Clif_gate=qc_iso.to_gate()\n",
    "    Clif_gate.label=\"Clif\"+str(i)\n",
    "    Clif_list[i]=Clif_gate\n",
    "    qc.append(Clif_gate,range(0,Dim))\n",
    "    qc.measure(range(0,Dim),range(0,Dim))\n",
    "    qc_list.append(qc)\n",
    "for j in qc_list:\n",
    "    A=j.parameters\n",
    "    for k in A:\n",
    "        j=j.bind_parameters({k:1})"
   ]
  },
  {
   "cell_type": "code",
   "execution_count": null,
   "metadata": {},
   "outputs": [],
   "source": [
    "h_V=get_value(state)\n",
    "qi = QuantumInstance(BasicAer.get_backend('statevector_simulator'), seed_transpiler=seed, seed_simulator=seed)\n",
    "qc_temp=QuantumCircuit(4)\n",
    "slsqp = SLSQP(maxiter=1000)\n",
    "qc_temp.append(EfficientSU2(4,reps=2),range(0,4))\n",
    "ansatz=StateFn(qc_temp)\n",
    "vqe = VQE(operator=h_V, var_form=qc_temp, optimizer=slsqp, quantum_instance=qi)\n",
    "result = vqe.compute_minimum_eigenvalue(operator=h_V)"
   ]
  },
  {
   "cell_type": "code",
   "execution_count": null,
   "metadata": {},
   "outputs": [],
   "source": [
    "state=[0,0,1,1]\n",
    "Dim=math.ceil(math.log2(len(state)))\n",
    "state=normalize(state)\n",
    "Observe=np.outer(state,state)\n",
    "qc_list=[]\n",
    "Clif_list=[0]*1000\n",
    "for i in range(1000):\n",
    "    qc=QuantumCircuit(Dim,Dim)\n",
    "    qc.append(EfficientSU2(Dim,reps=1),range(0,Dim))\n",
    "    A=random_clifford(Dim)\n",
    "    Clif_list[i]=A\n",
    "    A=Operator(A)\n",
    "    qc_iso=QuantumCircuit(Dim)\n",
    "    if i<500:\n",
    "        qc_iso.cx(0,1)\n",
    "    qc_iso.append(A,range(0,Dim))\n",
    "    Clif_gate=qc_iso.to_gate()\n",
    "    Clif_gate.label=\"Clif\"+str(i)\n",
    "    qc.append(Clif_gate,range(0,Dim))\n",
    "    qc.measure(range(0,Dim),range(0,Dim))\n",
    "    qc_list.append(qc)\n",
    "for j in qc_list:\n",
    "    A=j.parameters\n",
    "    for k in A:\n",
    "        j=j.bind_parameters({k:1})"
   ]
  },
  {
   "cell_type": "code",
   "execution_count": null,
   "metadata": {},
   "outputs": [
    {
     "name": "stdout",
     "output_type": "stream",
     "text": [
      "[[0.+0.5j 0.-0.5j 0.-0.5j 0.+0.5j]\n",
      " [0.+0.5j 0.-0.5j 0.+0.5j 0.-0.5j]\n",
      " [0.+0.5j 0.+0.5j 0.-0.5j 0.-0.5j]\n",
      " [0.+0.5j 0.+0.5j 0.+0.5j 0.+0.5j]]\n"
     ]
    }
   ],
   "source": [
    "print(Operator(Clif_list[2]).data)"
   ]
  },
  {
   "cell_type": "code",
   "execution_count": null,
   "metadata": {},
   "outputs": [
    {
     "name": "stdout",
     "output_type": "stream",
     "text": [
      "0.487\n",
      "0.487\n",
      "0.512\n",
      "0.512\n",
      "0.494\n",
      "0.498\n",
      "0.51\n",
      "0.507\n",
      "0.509\n",
      "0.507\n"
     ]
    }
   ],
   "source": [
    "qc=QuantumCircuit(1,1)\n",
    "qc.h(0)\n",
    "qc.measure(0,0)\n",
    "backend=Aer.get_backend('aer_simulator')\n",
    "for i in range(10):\n",
    "    job=execute(qc,backend,shots=1000)\n",
    "    result=job.result()\n",
    "    count=result.get_counts(qc)\n",
    "    print(count['0']/1000)"
   ]
  },
  {
   "cell_type": "code",
   "execution_count": null,
   "metadata": {},
   "outputs": [
    {
     "data": {
      "text/plain": [
       "1.1394042968749978"
      ]
     },
     "execution_count": 221,
     "metadata": {},
     "output_type": "execute_result"
    }
   ],
   "source": [
    "fuction([1,0,0,1],2*[0]+[-np.pi/2]+[0]*13,Clif_list,qc_list)"
   ]
  },
  {
   "cell_type": "code",
   "execution_count": null,
   "metadata": {},
   "outputs": [],
   "source": [
    "qc=QuantumCircuit(3)\n",
    "qc.append(EfficientSU2(3,reps=1),range(0,3))\n",
    "A=qc.parameters\n",
    "for j in qc_list:\n",
    "    for i in j.parameters:\n",
    "        j=j.bind_parameters({i:1})\n",
    "    \n"
   ]
  },
  {
   "cell_type": "code",
   "execution_count": null,
   "metadata": {},
   "outputs": [],
   "source": [
    "state=[1,0,1,1]\n",
    "state=normalize(state)\n",
    "A_mat=Operator(Clif_list[7]).data\n",
    "A_mat_dagger=A_mat.conjugate().T\n",
    "temp1=A_mat@state"
   ]
  },
  {
   "cell_type": "code",
   "execution_count": null,
   "metadata": {},
   "outputs": [],
   "source": []
  },
  {
   "cell_type": "code",
   "execution_count": null,
   "metadata": {},
   "outputs": [
    {
     "data": {
      "text/plain": [
       "array([0.        , 0.16666667, 0.16666667, 0.66666667])"
      ]
     },
     "execution_count": 310,
     "metadata": {},
     "output_type": "execute_result"
    }
   ],
   "source": [
    "abs(temp1)**2"
   ]
  },
  {
   "cell_type": "code",
   "execution_count": null,
   "metadata": {},
   "outputs": [
    {
     "name": "stdout",
     "output_type": "stream",
     "text": [
      "-0.16666666666666685\n"
     ]
    }
   ],
   "source": [
    "print(5*np.array([0,0,1,0])@abs(temp1)**2-1)"
   ]
  },
  {
   "cell_type": "code",
   "execution_count": null,
   "metadata": {},
   "outputs": [],
   "source": [
    "qc=QuantumCircuit(2)\n",
    "qc.append(Clif_list[3],[0,1])\n",
    "get_statevector(qc)"
   ]
  },
  {
   "cell_type": "code",
   "execution_count": null,
   "metadata": {},
   "outputs": [],
   "source": [
    "def fuction(state,para,Clif_list,qc_list):\n",
    "    Dim=math.ceil(math.log2(len(state)))\n",
    "    \"\"\"qc_list=[]\n",
    "    Clif_list=[0]*100\n",
    "    for i in range(100):\n",
    "        qc=QuantumCircuit(Dim,Dim)\n",
    "        qc.append(EfficientSU2(Dim,reps=1),range(0,Dim))\n",
    "        A=random_clifford(Dim)\n",
    "        Clif_list[i]=A\n",
    "        A=Operator(A)\n",
    "        qc_iso=QuantumCircuit(Dim)\n",
    "        qc_iso.append(A,range(0,Dim))\n",
    "        Clif_gate=qc_iso.to_gate()\n",
    "        Clif_gate.label=\"Clif\"+str(i)\n",
    "        qc.append(Clif_gate,range(0,Dim))\n",
    "        qc.measure(range(0,Dim),range(0,Dim))\n",
    "        qc_list.append(qc)\"\"\"\n",
    "    state=normalize(state)\n",
    "    Observe=np.outer(state,state)\n",
    "    bind_qc=[]\n",
    "    for i in qc_list:\n",
    "        index=0\n",
    "        for j in i.parameters:\n",
    "            i=i.bind_parameters({j:para[index]})\n",
    "            index+=1\n",
    "        bind_qc.append(i)\n",
    "    f=0\n",
    "    backend=Aer.get_backend('aer_simulator')\n",
    "    for i in range(100):\n",
    "        temp=[0]*Dim**2\n",
    "        job=execute(bind_qc[i],backend,shots=1024)\n",
    "        result=job.result()\n",
    "        counts=result.get_counts(bind_qc[i])\n",
    "        for j in counts.keys():\n",
    "            index=int(j,2)\n",
    "            temp[index]=float(counts[j])\n",
    "        A_mat=Operator(Clif_list[i]).data\n",
    "        A_mat_dagger=A_mat.conjugate().T\n",
    "        temp1=A_mat@state\n",
    "        temp=np.array(temp).conjugate()\n",
    "        p=temp@abs(temp1)**2\n",
    "        f=f+1/(100*1024)*((2**Dim+1)*p-1024)\n",
    "    \"\"\"for i in range(10):\n",
    "        temp=[0]*Dim**2\n",
    "        job=execute(bind_qc[i],backend,shots=1024)\n",
    "        result=job.result()\n",
    "        counts=result.get_counts(bind_qc[i])\n",
    "        for j in counts.keys():\n",
    "            index=int(j,2)\n",
    "            temp[index]=float(counts[j])\n",
    "        temp=normalize(temp)\n",
    "        A_mat=Operator(Clif_list[i]).data\n",
    "        A_mat_dagger=A_mat.conjugate().T\n",
    "        temp1=A_mat@state\n",
    "        p=abs(temp@temp1)**2\n",
    "        listA.append(p)\n",
    "        f=f+1/10*((2**Dim+1)*p-1)\"\"\"\n",
    "    return f\n",
    "\n",
    "\n",
    "\n",
    "    "
   ]
  },
  {
   "cell_type": "code",
   "execution_count": null,
   "metadata": {},
   "outputs": [
    {
     "ename": "NameError",
     "evalue": "name 'fuction1' is not defined",
     "output_type": "error",
     "traceback": [
      "\u001b[1;31m---------------------------------------------------------------------------\u001b[0m",
      "\u001b[1;31mNameError\u001b[0m                                 Traceback (most recent call last)",
      "Cell \u001b[1;32mIn[1], line 1\u001b[0m\n\u001b[1;32m----> 1\u001b[0m fuction1(x0)\n",
      "\u001b[1;31mNameError\u001b[0m: name 'fuction1' is not defined"
     ]
    }
   ],
   "source": [
    "fuction1(x0)"
   ]
  },
  {
   "cell_type": "code",
   "execution_count": null,
   "metadata": {},
   "outputs": [],
   "source": [
    "def fuction1(para):\n",
    "    return fuction([1,0,0,1],para,Clif_list,qc_list)"
   ]
  },
  {
   "cell_type": "code",
   "execution_count": null,
   "metadata": {},
   "outputs": [],
   "source": [
    "qc_list=[]\n",
    "qc_list_list_=[[] for _ in range(12)]\n",
    "qc_list_list__=[[] for _ in range(12)]\n",
    "for i in range(100):\n",
    "    qc=QuantumCircuit(3,3)\n",
    "    qc.append(EfficientSU2(3,reps=1),range(0,3))\n",
    "    A=random_clifford(3)\n",
    "    qc.append(A,range(0,3))\n",
    "    qc.measure(range(0,3),range(0,3))\n",
    "    for j in qc.parameters:\n",
    "        qc=qc.bind_parameters({j:2.321})\n",
    "    qc_list.append(qc)\n",
    "for k in range(12):\n",
    "    num=0\n",
    "    for i in range(100):\n",
    "        qc_=QuantumCircuit(3,3)\n",
    "        qc_.append(EfficientSU2(3,reps=1),range(0,3))\n",
    "        A=random_clifford(3)\n",
    "        qc_.append(A,range(0,3))\n",
    "        qc_.measure(range(0,3),range(0,3))\n",
    "        for j in qc_.parameters:\n",
    "            if num==k:\n",
    "                qc_=qc_.bind_parameters({j:2.321+np.pi})\n",
    "            else:\n",
    "                qc_=qc_.bind_parameters({j:2.321})\n",
    "        qc_list_list_[k].append(qc_)\n",
    "for k in range(12):\n",
    "    num=0\n",
    "    for i in range(100):\n",
    "        qc__=QuantumCircuit(3,3)\n",
    "        qc__.append(EfficientSU2(3,reps=1),range(0,3))\n",
    "        A=random_clifford(3)\n",
    "        qc__.append(A,range(0,3))\n",
    "        qc__.measure(range(0,3),range(0,3))\n",
    "        for j in qc__.parameters:\n",
    "            if num==k:\n",
    "                qc__=qc__.bind_parameters({j:2.321-np.pi})\n",
    "            else:\n",
    "                qc__=qc__.bind_parameters({j:2.321})\n",
    "        qc_list_list__[k].append(qc__) "
   ]
  },
  {
   "cell_type": "code",
   "execution_count": null,
   "metadata": {},
   "outputs": [],
   "source": []
  }
 ],
 "metadata": {
  "kernelspec": {
   "display_name": "Python 3.9.15 ('IBM')",
   "language": "python",
   "name": "python3"
  },
  "language_info": {
   "codemirror_mode": {
    "name": "ipython",
    "version": 3
   },
   "file_extension": ".py",
   "mimetype": "text/x-python",
   "name": "python",
   "nbconvert_exporter": "python",
   "pygments_lexer": "ipython3",
   "version": "3.9.15"
  },
  "orig_nbformat": 4,
  "vscode": {
   "interpreter": {
    "hash": "b753bbdd9bc7ca3d7ad7e79c0929ea025e247f1295bc4bd408fe3f26e06a8b4e"
   }
  }
 },
 "nbformat": 4,
 "nbformat_minor": 2
}
