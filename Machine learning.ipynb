{
 "cells": [
  {
   "cell_type": "code",
   "execution_count": 5,
   "id": "b98de7d1-b42d-406c-84a8-f93af4b8444c",
   "metadata": {},
   "outputs": [],
   "source": [
    "import numpy as np\n",
    "import math\n",
    "\n",
    "# Importing standard Qiskit libraries\n",
    "from qiskit import QuantumCircuit, transpile, Aer, IBMQ\n",
    "from qiskit.visualization import *\n",
    "from qiskit.providers.aer import QasmSimulator\n",
    "from qiskit.extensions import UnitaryGate\n",
    "from qiskit.quantum_info import Statevector\n",
    "\n",
    "from qiskit import QuantumCircuit, ClassicalRegister, QuantumRegister\n",
    "from qiskit import BasicAer\n",
    "from qiskit.compiler import transpile\n",
    "from qiskit.quantum_info.operators import Operator, Pauli\n",
    "from qiskit.quantum_info import process_fidelity\n",
    "\n",
    "from qiskit.extensions import RXGate, XGate, CXGate\n",
    "\n",
    "# Loading your IBM Quantum account(s)\n",
    "provider = IBMQ.load_account()"
   ]
  },
  {
   "cell_type": "code",
   "execution_count": 6,
   "id": "245e92af-039a-40a1-a070-253b2d38b107",
   "metadata": {},
   "outputs": [],
   "source": [
    "def anti_control(qc,qc_iso,control,target):\n",
    "    target=list(target)\n",
    "    control_gate=qc_iso.to_gate().control()\n",
    "    qc.x(control)\n",
    "    qc.append(control_gate,[control]+target)\n",
    "    qc.x(control)\n",
    "    return qc.to_gate()\n",
    "\n",
    "def control(qc,qc_iso,control,target):\n",
    "    target=list(target)\n",
    "    control_gate=qc_iso.to_gate().control()\n",
    "    return control_gate"
   ]
  },
  {
   "cell_type": "code",
   "execution_count": 7,
   "id": "9a0b19a2-65be-4324-8786-d3da00ced0b2",
   "metadata": {},
   "outputs": [],
   "source": [
    "def Statevector_to_rotate(state):\n",
    "    theta_list=[]\n",
    "    state=abs(normalize(state))\n",
    "    def Statevector_to_rotate1(state,theta_list):\n",
    "        state=np.array(state)\n",
    "        if (len(state)>1):\n",
    "            if (np.sum(state**2)>0.98):\n",
    "                temp=state[0:int(len(state)/2)]\n",
    "                temp1=state[int(len(state)/2):len(state)]\n",
    "                theta=round(math.acos(np.sqrt(np.sum(temp**2)))*2,8)\n",
    "                if np.sum(temp)!=0:\n",
    "                    temp=normalize(temp)\n",
    "                if np.sum(temp1)!=0:\n",
    "                    temp1=normalize(temp1)\n",
    "                theta_list.append(theta)\n",
    "                Statevector_to_rotate1(temp,theta_list)\n",
    "                Statevector_to_rotate1(temp1,theta_list)\n",
    "            else:\n",
    "                temp=state[0:int(len(state)/2)]\n",
    "                temp1=state[int(len(state)/2):len(state)]\n",
    "                Statevector_to_rotate1(temp,theta_list)\n",
    "                theta_list.append(0)\n",
    "                Statevector_to_rotate1(temp1,theta_list)\n",
    "        else:\n",
    "            return theta_list\n",
    "    Statevector_to_rotate1(state,theta_list)\n",
    "    return theta_list\n",
    "def Statevector_to_rotate2(state):\n",
    "    theta_list=[]\n",
    "    state=abs(normalize(state))\n",
    "    def Statevector_to_rotate3(state,theta_list):\n",
    "        state=np.array(state)\n",
    "        if (len(state)>1):\n",
    "            if (np.sum(state**2)>0.98):\n",
    "                temp=state[0:int(len(state)/2)]\n",
    "                temp1=state[int(len(state)/2):len(state)]\n",
    "                theta=round(math.acos(np.sqrt(np.sum(temp**2)))*2,8)\n",
    "                if np.sum(temp)!=0:\n",
    "                    temp=normalize(temp)\n",
    "                if np.sum(temp1)!=0:\n",
    "                    temp1=normalize(temp1)\n",
    "                Statevector_to_rotate3(temp,theta_list)\n",
    "                theta_list.append(theta)\n",
    "                Statevector_to_rotate3(temp1,theta_list)\n",
    "            else:\n",
    "                temp=state[0:int(len(state)/2)]\n",
    "                temp1=state[int(len(state)/2):len(state)]\n",
    "                Statevector_to_rotate3(temp,theta_list)\n",
    "                theta_list.append(0)\n",
    "                Statevector_to_rotate3(temp1,theta_list)\n",
    "        else:\n",
    "            return theta_list\n",
    "    Statevector_to_rotate3(state,theta_list)\n",
    "    return theta_list\n",
    "def My_binary(number,full):\n",
    "    def binary(number):\n",
    "        if number==0:\n",
    "            return '0'\n",
    "        if number==1:\n",
    "            return '1'\n",
    "        if (number%2==0):\n",
    "            return binary(number//2)+'0'\n",
    "        else:\n",
    "            return binary(number//2)+'1'\n",
    "    temp=binary(number)\n",
    "    while(len(temp)<full):\n",
    "        temp='0'+temp\n",
    "    return temp"
   ]
  },
  {
   "cell_type": "code",
   "execution_count": 8,
   "id": "777a6158",
   "metadata": {},
   "outputs": [],
   "source": [
    "def normalize(state_vector):\n",
    "    temp=np.array(state_vector)\n",
    "    normalized_v = temp / np.sqrt(np.sum(temp**2))\n",
    "    return normalized_v\n",
    "def make_gate(qc,state):\n",
    "    theta=Rotation_Theta(state)\n",
    "    Dim=int(math.log2(len(theta)+1))\n",
    "    index_=0\n",
    "    ##if Dim%2==1:\n",
    "        ##qc.x(0)\n",
    "    for i in range(1,Dim+1):\n",
    "        for j in range(0,2**(i-1)):\n",
    "            if i==1:\n",
    "                qc.ry(theta[0],qc.num_qubits-1)\n",
    "            else:\n",
    "                Control=int(i)-1\n",
    "                index=My_binary(j,i-1)\n",
    "                for k in range(0,i-1):\n",
    "                    if index[k]=='0':\n",
    "                        qc.x(qc.num_qubits-k-1)\n",
    "                qc_iso=QuantumCircuit(1)\n",
    "                qc_iso.ry(theta[index_+1],0)\n",
    "                controlled_gate = UnitaryGate(Operator(qc_iso),'Ry\\n'+str(round(theta[index_+1]/3.141592,2))+'π').control(Control)\n",
    "                qc.append(controlled_gate,[-k for k in range(1,i+1)])\n",
    "                for k in range(0,i-1):\n",
    "                    if index[k]=='0':\n",
    "                        qc.x(qc.num_qubits-k-1)\n",
    "                index_+=1\n",
    "    temp=[i for i in range(len(state))]\n",
    "    for i in range(len(state)):\n",
    "        if state[i]<0:\n",
    "            index=My_binary(i,Dim)\n",
    "            for k in range(0,Dim):\n",
    "                    if index[k]=='0':\n",
    "                        qc.x(qc.num_qubits-k-1)\n",
    "            qc_iso=QuantumCircuit(1)\n",
    "            qc_iso.z(0)\n",
    "            controlled_gate=UnitaryGate(Operator(qc_iso),'cz').control(Dim-1)\n",
    "            qc.append(controlled_gate,[j for j in range(0,Dim)])\n",
    "            for k in range(0,Dim):\n",
    "                    if index[k]=='0':\n",
    "                        qc.x(qc.num_qubits-k-1)"
   ]
  },
  {
   "cell_type": "code",
   "execution_count": 9,
   "id": "93fef5ff",
   "metadata": {},
   "outputs": [],
   "source": [
    "def make_gate1(qc,state):\n",
    "    theta=Rotation_Theta(state)\n",
    "    Dim=int(math.log2(len(theta)+1))\n",
    "    index_=0\n",
    "    ##if Dim%2==1:\n",
    "        ##qc.x(0)\n",
    "    for i in range(1,Dim+1):\n",
    "        for j in range(0,2**(i-1)):\n",
    "            if i==1:\n",
    "                qc.ry(theta[0],qc.num_qubits-1)\n",
    "            else:\n",
    "                Control=int(i)-1\n",
    "                index=My_binary(j,i-1)\n",
    "                for k in range(0,i-1):\n",
    "                    if index[k]=='0':\n",
    "                        qc.x(qc.num_qubits-k-1)\n",
    "                qc_iso=QuantumCircuit(1)\n",
    "                qc_iso.ry(theta[index_+1],0)\n",
    "                controlled_gate = UnitaryGate(Operator(qc_iso),'Ry\\n'+str(round(theta[index_+1]/3.141592,2))+'π').control(Control)\n",
    "                qc.append(controlled_gate,[-k for k in range(1,i+1)])\n",
    "                for k in range(0,i-1):\n",
    "                    if index[k]=='0':\n",
    "                        qc.x(qc.num_qubits-k-1)\n",
    "                index_+=1\n",
    "    temp=[i for i in range(len(state))]\n",
    "    for i in range(len(state)):\n",
    "        if state[i]<0:\n",
    "            index=My_binary(i,Dim)\n",
    "            for k in range(0,Dim):\n",
    "                    if index[k]=='0':\n",
    "                        qc.x(qc.num_qubits-k-1)\n",
    "            qc_iso=QuantumCircuit(1)\n",
    "            qc_iso.z(0)\n",
    "            controlled_gate=UnitaryGate(Operator(qc_iso),'cz').control(Dim-1)\n",
    "            qc.append(controlled_gate,[j for j in range(0,Dim)])\n",
    "            for k in range(0,Dim):\n",
    "                    if index[k]=='0':\n",
    "                        qc.x(qc.num_qubits-k-1)"
   ]
  },
  {
   "cell_type": "code",
   "execution_count": 10,
   "id": "81287881-877a-44f3-b317-ec979671030b",
   "metadata": {},
   "outputs": [],
   "source": [
    "from typing import List\n",
    "\n",
    "\n",
    "class TreeNode:\n",
    "    def __init__(self, val=0, left=None, right=None):\n",
    "        self.val = val\n",
    "        self.left = left\n",
    "        self.right = right\n",
    "\n",
    "\n",
    "class Solution:\n",
    "    def buildTree(self, preorder: List[int], inorder: List[int]) -> TreeNode:\n",
    "        if inorder:\n",
    "            index = inorder.index(preorder.pop(0))\n",
    "            node = TreeNode(inorder[index])\n",
    "            node.left = self.buildTree(preorder, inorder[0:index])\n",
    "            node.right = self.buildTree(preorder, inorder[index + 1:])\n",
    "\n",
    "\n",
    "            return node\n",
    "\n",
    "def pre_order(node):\n",
    "    print(node.val, end=' ')\n",
    "    if node.left != None:\n",
    "        pre_order(node.left)\n",
    "    if node.right != None:\n",
    "        pre_order(node.right)\n",
    "\n",
    "class ArrayQueue:\n",
    "\n",
    "    def __init__(self):\n",
    "        self.data = []\n",
    "\n",
    "    def size(self):\n",
    "        return len(self.data)\n",
    "\n",
    "    def isEmpty(self):\n",
    "        return self.size() == 0\n",
    "\n",
    "    def enqueue(self, item):\n",
    "        self.data.append(item)\n",
    "\n",
    "    def dequeue(self):\n",
    "        return self.data.pop(0)\n",
    "\n",
    "    def peek(self):\n",
    "        return self.data[0]\n",
    "\n",
    "class BinaryTree:\n",
    "\n",
    "    def __init__(self, r):\n",
    "        self.root = r\n",
    "\n",
    "    def bft(self):\n",
    "        traversal = []\n",
    "        visitQueue = ArrayQueue()\n",
    "        if self.root:\n",
    "            visitQueue.enqueue(self.root)\n",
    "        while visitQueue.isEmpty()==False:\n",
    "            node = visitQueue.dequeue()\n",
    "            traversal.append(node.val)\n",
    "            if node.left:\n",
    "                visitQueue.enqueue(node.left)\n",
    "            if node.right:\n",
    "                visitQueue.enqueue(node.right)\n",
    "            \n",
    "        return traversal\n",
    "def Rotation_Theta(state):\n",
    "    A=TreeNode()\n",
    "    A=Solution()\n",
    "    node=A.buildTree(Statevector_to_rotate(state),Statevector_to_rotate2(state))\n",
    "    node1=BinaryTree(node)\n",
    "    B=node1.bft()\n",
    "    return B"
   ]
  },
  {
   "cell_type": "code",
   "execution_count": 11,
   "id": "e4aca3f8-1caa-456f-8e7b-b1a97093213a",
   "metadata": {},
   "outputs": [],
   "source": [
    "def Quantum_inner_product(state1,state2):\n",
    "    Dim=int(math.log2(len(state1)))\n",
    "    qc=QuantumCircuit(Dim+1,1)\n",
    "    qc.h(0)\n",
    "    qc_iso=QuantumCircuit(Dim)\n",
    "    make_gate(qc_iso,state1)\n",
    "    gate=qc_iso.to_gate()\n",
    "    gate.label='state1'\n",
    "    controlled_gate=gate.control()\n",
    "    qc.append(controlled_gate,[i for i in range(Dim+1)])\n",
    "    qc.x(0)\n",
    "    qc_iso=QuantumCircuit(Dim)\n",
    "    make_gate(qc_iso,state2)\n",
    "    gate=qc_iso.to_gate()\n",
    "    gate.label='state2'\n",
    "    controlled_gate=gate.control()\n",
    "    qc.append(controlled_gate,[i for i in range(Dim+1)])\n",
    "    qc.h(0)\n",
    "    return qc"
   ]
  },
  {
   "cell_type": "code",
   "execution_count": 12,
   "id": "38210167",
   "metadata": {},
   "outputs": [
    {
     "ename": "SyntaxError",
     "evalue": "EOF while scanning triple-quoted string literal (4017684056.py, line 19)",
     "output_type": "error",
     "traceback": [
      "\u001b[1;36m  Cell \u001b[1;32mIn [12], line 19\u001b[1;36m\u001b[0m\n\u001b[1;33m    return qc_1\u001b[0m\n\u001b[1;37m               \n^\u001b[0m\n\u001b[1;31mSyntaxError\u001b[0m\u001b[1;31m:\u001b[0m EOF while scanning triple-quoted string literal\n"
     ]
    }
   ],
   "source": [
    "\"\"\"def discriminator(information,inform):\n",
    "    qc_iso1=Input_information(information)\n",
    "    qc_iso2=dis_information(inform,information)\n",
    "    gate_input=UnitaryGate(Operator(qc_iso1),\"Input infromation\").control(1)\n",
    "    gate_dis=UnitaryGate(Operator(qc_iso2),\"Dis infromation\").control(1)\n",
    "    state=QuantumRegister(qc_iso1.num_qubits,\"state\")\n",
    "    Ancila=QuantumRegister(3,\"ancilla\")\n",
    "    clbt=ClassicalRegister(1,\"Clbt\")\n",
    "    qc_1=QuantumCircuit(Ancila,state,clbt)\n",
    "    qc_1.h(Ancila[2])\n",
    "    qc_1.append(gate_input,[Ancila[2]]+state[0:])\n",
    "    qc_1.x(Ancila[2])\n",
    "    qc_1.append(gate_dis,[Ancila[2]]+state[0:])\n",
    "    qc_1.h(Ancila[1])\n",
    "    qc_1.h(Ancila[0])\n",
    "    qc_1.append(swap_control,Ancila[0:])\n",
    "    qc_1.h(Ancila[0])\n",
    "    qc_1.measure(0,0)\n",
    "    return qc_1"
   ]
  },
  {
   "cell_type": "code",
   "execution_count": 24,
   "id": "0a5b326d",
   "metadata": {},
   "outputs": [],
   "source": [
    "def discriminator(information,inform):\n",
    "    qc_iso1=Input_information(information)\n",
    "    qc_iso2=dis_information(inform,information)\n",
    "    index_=len(information)\n",
    "    index_num=int(math.log2(index_))\n",
    "    index=QuantumRegister(index_num, \"index\")\n",
    "    Dim=int(math.log2(len(information[0][0])))\n",
    "    state=QuantumRegister(Dim,\"state\")\n",
    "    res=QuantumRegister(1,\"value\")\n",
    "    gate_input=UnitaryGate(Operator(qc_iso1),\"Input infromation\").control(1)\n",
    "    gate_dis=UnitaryGate(Operator(qc_iso2),\"Dis infromation\").control(1)\n",
    "    Ancila=QuantumRegister(3,\"ancilla\")\n",
    "    cl=ClassicalRegister(1,\"clbt\")\n",
    "    qc_1=QuantumCircuit(Ancila,index,state,res,cl)\n",
    "    qc_1.h(Ancila[2])\n",
    "    qc_1.append(gate_input,[Ancila[2]]+index[0:]+state[0:]+res[0:])\n",
    "    qc_1.x(Ancila[2])\n",
    "    qc_1.append(gate_dis,[Ancila[2]]+index[0:]+state[0:]+res[0:])\n",
    "    qc_1.h(Ancila[1])\n",
    "    qc_1.h(Ancila[0])\n",
    "    qc_1.append(swap_control,Ancila[0:])\n",
    "    qc_1.h(Ancila[0])\n",
    "    qc_1.measure(0,0)\n",
    "    return qc_1\n",
    "def Input_information(information):\n",
    "    index_=len(information)\n",
    "    index_num=int(math.log2(index_))\n",
    "    index=QuantumRegister(index_num, \"index\")\n",
    "    Dim=int(math.log2(len(information[0][0])))\n",
    "    state=QuantumRegister(Dim,\"state\")\n",
    "    res=QuantumRegister(1,\"value\")\n",
    "    qc=QuantumCircuit(index,state,res)\n",
    "    for i in range (int(index_num)):\n",
    "        qc.h(index[i])\n",
    "    for i in range (len(information)):\n",
    "        qc_iso=QuantumCircuit(Dim)\n",
    "        make_gate(qc_iso,information[i][0])\n",
    "        controlled_gate=UnitaryGate(Operator(qc_iso),'state'+str(i)).control(int(math.log2(len(information))))\n",
    "        index_num=My_binary(i,int(math.log2(index_)))\n",
    "        for j in range(len(index_num)):\n",
    "            if index_num[j]=='0':\n",
    "                qc.x(j)\n",
    "        qc.append(controlled_gate,index[0:]+state[0:])\n",
    "        if information[i][1]==-1:\n",
    "            gate=XGate().control(int(math.log2(len(information))))\n",
    "            qc.append(gate,index[0:]+res[0:])\n",
    "        for j in range(len(index_num)):\n",
    "            if index_num[j]=='0':\n",
    "                qc.x(j)\n",
    "    return qc\n",
    "\n",
    "def dis_information(inform,information):\n",
    "    index_=len(information)\n",
    "    index_num=math.log2(index_)\n",
    "    index=QuantumRegister(index_num, \"index\")\n",
    "    Dim=int(math.log2(len(inform[0])))\n",
    "    state=QuantumRegister(Dim,\"state\")\n",
    "    res=QuantumRegister(1,\"value\")\n",
    "    qc=QuantumCircuit(index,state,res)\n",
    "    qc.h(index[0:])\n",
    "    Dim=int(math.log2(len(inform[0])))\n",
    "    qc_iso=QuantumCircuit(Dim)\n",
    "    make_gate(qc_iso,inform[0])\n",
    "    gate=qc_iso.to_gate()\n",
    "    gate.label=\"inform\"\n",
    "    qc.append(gate,state[0:])\n",
    "    qc.x(res[0:])\n",
    "    qc.h(res[0:])\n",
    "    return qc\n",
    "\n",
    "qc=QuantumCircuit(2)\n",
    "qc.swap(0,1)\n",
    "swap_control=UnitaryGate(Operator(qc),\"swap_gate\").control(1)"
   ]
  },
  {
   "cell_type": "code",
   "execution_count": 25,
   "id": "2398fc08",
   "metadata": {},
   "outputs": [
    {
     "data": {
      "image/png": "[encoded data removed]",
      "text/plain": [
       "<Figure size 432.203x451.5 with 1 Axes>"
      ]
     },
     "execution_count": 25,
     "metadata": {},
     "output_type": "execute_result"
    }
   ],
   "source": [
    "circ=dis_information(inform,information)\n",
    "circ.draw(output='mpl')"
   ]
  },
  {
   "cell_type": "code",
   "execution_count": 16,
   "id": "69bd3259",
   "metadata": {},
   "outputs": [
    {
     "data": {
      "image/png": "[encoded data removed]",
      "text/plain": [
       "<Figure size 1199.72x785.944 with 1 Axes>"
      ]
     },
     "execution_count": 16,
     "metadata": {},
     "output_type": "execute_result"
    }
   ],
   "source": [
    "information=[[[1,0,0,0],-1],[[0,1,0,0],-1],[[0,0,1,0],1],[[0,0,0,1],1]]\n",
    "inform=[[1,0,0,0]]\n",
    "qc_1=discriminator(information,inform)\n",
    "qc_1.draw(\"mpl\")"
   ]
  },
  {
   "cell_type": "code",
   "execution_count": 75,
   "id": "40287408-db03-456e-b54d-8574809f05da",
   "metadata": {},
   "outputs": [],
   "source": [
    "# Use Aer's qasm_simulator\n",
    "backend_sim = Aer.get_backend('qasm_simulator')\n",
    "\n",
    "# Execute the circuit on the qasm simulator.\n",
    "# We've set the number of repeats of the circuit\n",
    "# to be 1024, which is the default.\n",
    "job_sim = backend_sim.run(transpile(qc_1, backend_sim), shots=10000)\n",
    "\n",
    "# Grab the results from the job.\n",
    "result_sim = job_sim.result()"
   ]
  },
  {
   "cell_type": "code",
   "execution_count": 76,
   "id": "f9b0ffa8-31b9-4d7a-8fa5-69c024c7b0d0",
   "metadata": {},
   "outputs": [
    {
     "data": {
      "text/plain": [
       "0.08360000000000001"
      ]
     },
     "execution_count": 76,
     "metadata": {},
     "output_type": "execute_result"
    }
   ],
   "source": [
    "count=result_sim.get_counts()\n",
    "P=count['1']/10000\n",
    "1-4*P"
   ]
  }
 ],
 "metadata": {
  "kernelspec": {
   "display_name": "Python 3.9.15 ('IBM')",
   "language": "python",
   "name": "python3"
  },
  "language_info": {
   "codemirror_mode": {
    "name": "ipython",
    "version": 3
   },
   "file_extension": ".py",
   "mimetype": "text/x-python",
   "name": "python",
   "nbconvert_exporter": "python",
   "pygments_lexer": "ipython3",
   "version": "3.9.15"
  },
  "vscode": {
   "interpreter": {
    "hash": "b753bbdd9bc7ca3d7ad7e79c0929ea025e247f1295bc4bd408fe3f26e06a8b4e"
   }
  },
  "widgets": {
   "application/vnd.jupyter.widget-state+json": {
    "state": {
     "0703fba8d5a649d787ca87c4fc317d2b": {
      "model_module": "@jupyter-widgets/base",
      "model_module_version": "1.2.0",
      "model_name": "LayoutModel",
      "state": {
       "width": "190px"
      }
     },
     "0db8ca6d4e32447f807914dbff96021a": {
      "model_module": "@jupyter-widgets/controls",
      "model_module_version": "1.5.0",
      "model_name": "DescriptionStyleModel",
      "state": {
       "description_width": ""
      }
     },
     "1e0d70061e7a4f4e9021c825ddc8d400": {
      "model_module": "@jupyter-widgets/controls",
      "model_module_version": "1.5.0",
      "model_name": "HBoxModel",
      "state": {
       "children": [
        "IPY_MODEL_8e8bc7bf696b47409f03b72fe7c5c533",
        "IPY_MODEL_4a515d62e28c4e2fa515ce2a475c1b9e",
        "IPY_MODEL_f0618845e1464854bd6d852527cc34d4",
        "IPY_MODEL_2e76065ae0ba4b6fb6638dd12966637f",
        "IPY_MODEL_77981177ba7843ed8693bc4be6ff5059"
       ],
       "layout": "IPY_MODEL_362fcd08a17340519472668baf3ba7a9"
      }
     },
     "21cb8ba074414fc5946aa655493526ef": {
      "model_module": "@jupyter-widgets/controls",
      "model_module_version": "1.5.0",
      "model_name": "DescriptionStyleModel",
      "state": {
       "description_width": ""
      }
     },
     "29fac45217fc4c9489020aa7026908aa": {
      "model_module": "@jupyter-widgets/controls",
      "model_module_version": "1.5.0",
      "model_name": "ButtonStyleModel",
      "state": {}
     },
     "2e76065ae0ba4b6fb6638dd12966637f": {
      "model_module": "@jupyter-widgets/controls",
      "model_module_version": "1.5.0",
      "model_name": "HTMLModel",
      "state": {
       "layout": "IPY_MODEL_a228da480c064231a50a40f381c70625",
       "style": "IPY_MODEL_8ebd7d1378564f10b65dd50a38c909d9",
       "value": "<h5>Queue</h5>"
      }
     },
     "362fcd08a17340519472668baf3ba7a9": {
      "model_module": "@jupyter-widgets/base",
      "model_module_version": "1.2.0",
      "model_name": "LayoutModel",
      "state": {
       "margin": "0px 0px 0px 37px",
       "width": "600px"
      }
     },
     "403caf97854a4d0fab58c81f27daaa5c": {
      "model_module": "@jupyter-widgets/controls",
      "model_module_version": "1.5.0",
      "model_name": "ButtonModel",
      "state": {
       "button_style": "primary",
       "description": "Clear",
       "layout": "IPY_MODEL_7774449b52214de58438909ec5284085",
       "style": "IPY_MODEL_29fac45217fc4c9489020aa7026908aa"
      }
     },
     "4a515d62e28c4e2fa515ce2a475c1b9e": {
      "model_module": "@jupyter-widgets/controls",
      "model_module_version": "1.5.0",
      "model_name": "HTMLModel",
      "state": {
       "layout": "IPY_MODEL_6b869a457bfd4af4b26092713c57dc93",
       "style": "IPY_MODEL_d1692a6d02c04899a806ef70833a3b91",
       "value": "<h5>Backend</h5>"
      }
     },
     "4fa4bc8150e841e2ad2c77b0af0e6c2a": {
      "model_module": "@jupyter-widgets/base",
      "model_module_version": "1.2.0",
      "model_name": "LayoutModel",
      "state": {}
     },
     "5a90fac7a226442285a5b35f709b7565": {
      "model_module": "@jupyter-widgets/controls",
      "model_module_version": "1.5.0",
      "model_name": "DescriptionStyleModel",
      "state": {
       "description_width": ""
      }
     },
     "5b6df9b4e63f4abaad609c2b04e39985": {
      "model_module": "@jupyter-widgets/controls",
      "model_module_version": "1.5.0",
      "model_name": "DescriptionStyleModel",
      "state": {
       "description_width": ""
      }
     },
     "6b869a457bfd4af4b26092713c57dc93": {
      "model_module": "@jupyter-widgets/base",
      "model_module_version": "1.2.0",
      "model_name": "LayoutModel",
      "state": {
       "width": "145px"
      }
     },
     "733c674d8d7a49db899c23318340fc0b": {
      "model_module": "@jupyter-widgets/base",
      "model_module_version": "1.2.0",
      "model_name": "LayoutModel",
      "state": {
       "grid_template_areas": "\n                                       \". . . . right \"\n                                        ",
       "grid_template_columns": "20% 20% 20% 20% 20%",
       "width": "100%"
      }
     },
     "755b160c9b094a19b1de11ee02fd06ba": {
      "model_module": "@jupyter-widgets/base",
      "model_module_version": "1.2.0",
      "model_name": "LayoutModel",
      "state": {
       "width": "95px"
      }
     },
     "7774449b52214de58438909ec5284085": {
      "model_module": "@jupyter-widgets/base",
      "model_module_version": "1.2.0",
      "model_name": "LayoutModel",
      "state": {
       "grid_area": "right",
       "padding": "0px 0px 0px 0px",
       "width": "70px"
      }
     },
     "77981177ba7843ed8693bc4be6ff5059": {
      "model_module": "@jupyter-widgets/controls",
      "model_module_version": "1.5.0",
      "model_name": "HTMLModel",
      "state": {
       "layout": "IPY_MODEL_4fa4bc8150e841e2ad2c77b0af0e6c2a",
       "style": "IPY_MODEL_21cb8ba074414fc5946aa655493526ef",
       "value": "<h5>Message</h5>"
      }
     },
     "8bd20a9cac9e42e4a1d0571f05ed1ab6": {
      "model_module": "@jupyter-widgets/controls",
      "model_module_version": "1.5.0",
      "model_name": "HTMLModel",
      "state": {
       "layout": "IPY_MODEL_c615b82903684bfbae704b50b81d2419",
       "style": "IPY_MODEL_0db8ca6d4e32447f807914dbff96021a",
       "value": "<p style='font-family: IBM Plex Sans, Arial, Helvetica, sans-serif; font-size: 20px; font-weight: medium;'>Circuit Properties</p>"
      }
     },
     "8e8bc7bf696b47409f03b72fe7c5c533": {
      "model_module": "@jupyter-widgets/controls",
      "model_module_version": "1.5.0",
      "model_name": "HTMLModel",
      "state": {
       "layout": "IPY_MODEL_0703fba8d5a649d787ca87c4fc317d2b",
       "style": "IPY_MODEL_5a90fac7a226442285a5b35f709b7565",
       "value": "<h5>Job ID</h5>"
      }
     },
     "8ebd7d1378564f10b65dd50a38c909d9": {
      "model_module": "@jupyter-widgets/controls",
      "model_module_version": "1.5.0",
      "model_name": "DescriptionStyleModel",
      "state": {
       "description_width": ""
      }
     },
     "a228da480c064231a50a40f381c70625": {
      "model_module": "@jupyter-widgets/base",
      "model_module_version": "1.2.0",
      "model_name": "LayoutModel",
      "state": {
       "width": "70px"
      }
     },
     "c615b82903684bfbae704b50b81d2419": {
      "model_module": "@jupyter-widgets/base",
      "model_module_version": "1.2.0",
      "model_name": "LayoutModel",
      "state": {
       "margin": "0px 0px 10px 0px"
      }
     },
     "d1692a6d02c04899a806ef70833a3b91": {
      "model_module": "@jupyter-widgets/controls",
      "model_module_version": "1.5.0",
      "model_name": "DescriptionStyleModel",
      "state": {
       "description_width": ""
      }
     },
     "ed91f259e41f4e918c01e13195afed3a": {
      "model_module": "@jupyter-widgets/controls",
      "model_module_version": "1.5.0",
      "model_name": "GridBoxModel",
      "state": {
       "children": [
        "IPY_MODEL_403caf97854a4d0fab58c81f27daaa5c"
       ],
       "layout": "IPY_MODEL_733c674d8d7a49db899c23318340fc0b"
      }
     },
     "f0618845e1464854bd6d852527cc34d4": {
      "model_module": "@jupyter-widgets/controls",
      "model_module_version": "1.5.0",
      "model_name": "HTMLModel",
      "state": {
       "layout": "IPY_MODEL_755b160c9b094a19b1de11ee02fd06ba",
       "style": "IPY_MODEL_5b6df9b4e63f4abaad609c2b04e39985",
       "value": "<h5>Status</h5>"
      }
     }
    },
    "version_major": 2,
    "version_minor": 0
   }
  }
 },
 "nbformat": 4,
 "nbformat_minor": 5
}
